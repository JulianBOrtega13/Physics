{
 "cells": [
  {
   "cell_type": "markdown",
   "metadata": {},
   "source": [
    "# Superconductivity Individual Analysis (New calibration template)\n",
    "\n",
    "Use this template to carry out the analysis tasks for the experiment.  For reference, here are links to recommended Python resources: the [Whirlwind Tour of Python](https://jakevdp.github.io/WhirlwindTourOfPython/) and the [Python Data Science Handbook](https://jakevdp.github.io/PythonDataScienceHandbook/) both by Jake VanderPlas.\n",
    "\n",
    "We will be making use of both the [Uncertainties](https://pythonhosted.org/uncertainties/) and [LMFit](https://lmfit.github.io/lmfit-py/) packages in this notebook.\n",
    "\n",
    "#### Updated to show revised analysis procedures\n",
    "\n",
    "As of February 2024, use the steps outlined below if you \n",
    "* Have taken data with the LabVIEW based Chart Recorder application.\n",
    "* Wish to use the ITS-90 coefficients to calculate temperature from the pressure data."
   ]
  },
  {
   "cell_type": "code",
   "execution_count": 1,
   "metadata": {},
   "outputs": [],
   "source": [
    "# Run this cell with Shift-Enter, and wait until the asterisk changes to a number, i.e., [*] becomes [1]\n",
    "import numpy as np\n",
    "import scipy.constants as const\n",
    "import uncertainties as unc\n",
    "import uncertainties.unumpy as unp\n",
    "import uncertainties.umath as um\n",
    "import matplotlib.pyplot as plt\n",
    "import pandas as pd\n",
    "%matplotlib inline"
   ]
  },
  {
   "cell_type": "code",
   "execution_count": 2,
   "metadata": {},
   "outputs": [],
   "source": [
    "# Set up plot defaults\n",
    "import matplotlib as mpl\n",
    "mpl.rcParams['figure.figsize'] = 9.0,6.5  # Roughly 9 cm wde by 6.5 cm high\n",
    "mpl.rcParams['font.size'] = 11.0 # Use 11 point font"
   ]
  },
  {
   "cell_type": "markdown",
   "metadata": {},
   "source": [
    "## Prior to working on this notebook:\n",
    "\n",
    "1. Extract the transition points ($I$ through the 5 ohm sensing resistor in voltage units) versus pressure readings ($P$ in voltage units scaled to mmHg, called \"torr\") from the data scans. Make a CSV spreadsheet file with two columns: \"P (torr)\", \"I (volts)\"\n",
    "\n",
    "2. Calculate the temperature in on of two ways:\n",
    "\n",
    "    a. Use the \"1958 He Scale of Temperatures” booklet, or the [online calculator from Quantum Design](https://qdusa.com/support/helium_vapor_pressure.html).\n",
    "    \n",
    "    b. Opt to create a function from the official polynomial fit described in the [International Temperature Scale of 1990 (ITS-90)](https://courses.washington.edu/phys431/superconductivity/ITS-1990_McGlashan_JChemThermo_1990.pdf), to convert the pressure readings to temperature $T$ (K) in the steps below.\n",
    "\n",
    "\n",
    "### Then...\n",
    "4. Import the CSV file of pressure/temperature versus transition points in volts across the current-sense resistor into the directory containing this notebook.\n",
    "\n",
    "5. Create a calibration function to convert measured voltage across the current-sense resistor to magnetic field, using the magnet calibration curve in figure 5 of the (revised in 20204) instructions.\n",
    "\n",
    "6. Apply the calibration function to obtain the transition points in terms of magnetic field in gauss.\n",
    "\n",
    "7. Conduct a similar process if using the ITS-90 scale coefficients to obtain the temperature from the pressure reading.  (If you have already done this by hand, skip this step.)\n",
    "\n",
    "8. Plot $H_c$ vs. $T$.\n",
    "\n",
    "9. Fit the above using two different methods: (A) linearize the data, then fit to a line and obtain the slope and intercept, and (B) fit to the functional form of equation (1) in the instructions.  From both ways of fitting, find the critical temperature at zero field $T_c$ and the critical field at 0K $H_{c0}$.\n",
    "\n",
    "10. Obtain the uncertainties in the results from the fits, and compare them to each other and to the values found in a handbook or text.\n"
   ]
  },
  {
   "cell_type": "markdown",
   "metadata": {},
   "source": [
    "## Import data tables\n",
    "\n",
    "Display them so that you know they are correct.\n",
    "\n",
    "Import $P$ (volts,torr) and/or $T$ (kelvin) and current-sense voltage $I(\\text{volts})$"
   ]
  },
  {
   "cell_type": "code",
   "execution_count": 3,
   "metadata": {},
   "outputs": [
    {
     "data": {
      "text/html": [
       "<div>\n",
       "<style scoped>\n",
       "    .dataframe tbody tr th:only-of-type {\n",
       "        vertical-align: middle;\n",
       "    }\n",
       "\n",
       "    .dataframe tbody tr th {\n",
       "        vertical-align: top;\n",
       "    }\n",
       "\n",
       "    .dataframe thead th {\n",
       "        text-align: right;\n",
       "    }\n",
       "</style>\n",
       "<table border=\"1\" class=\"dataframe\">\n",
       "  <thead>\n",
       "    <tr style=\"text-align: right;\">\n",
       "      <th></th>\n",
       "      <th>Pressure (Torr)</th>\n",
       "      <th>Cursor X (V)</th>\n",
       "      <th>Temp (K) (He-4)</th>\n",
       "    </tr>\n",
       "  </thead>\n",
       "  <tbody>\n",
       "    <tr>\n",
       "      <th>0</th>\n",
       "      <td>650.5</td>\n",
       "      <td>0.061524</td>\n",
       "      <td>4.061</td>\n",
       "    </tr>\n",
       "    <tr>\n",
       "      <th>1</th>\n",
       "      <td>615.0</td>\n",
       "      <td>0.183333</td>\n",
       "      <td>4.005</td>\n",
       "    </tr>\n",
       "    <tr>\n",
       "      <th>2</th>\n",
       "      <td>596.1</td>\n",
       "      <td>0.253333</td>\n",
       "      <td>3.974</td>\n",
       "    </tr>\n",
       "    <tr>\n",
       "      <th>3</th>\n",
       "      <td>570.2</td>\n",
       "      <td>0.347143</td>\n",
       "      <td>3.930</td>\n",
       "    </tr>\n",
       "    <tr>\n",
       "      <th>4</th>\n",
       "      <td>543.9</td>\n",
       "      <td>0.442857</td>\n",
       "      <td>3.885</td>\n",
       "    </tr>\n",
       "    <tr>\n",
       "      <th>5</th>\n",
       "      <td>520.3</td>\n",
       "      <td>0.536000</td>\n",
       "      <td>3.843</td>\n",
       "    </tr>\n",
       "    <tr>\n",
       "      <th>6</th>\n",
       "      <td>494.4</td>\n",
       "      <td>0.645238</td>\n",
       "      <td>3.795</td>\n",
       "    </tr>\n",
       "    <tr>\n",
       "      <th>7</th>\n",
       "      <td>472.5</td>\n",
       "      <td>0.736000</td>\n",
       "      <td>3.754</td>\n",
       "    </tr>\n",
       "    <tr>\n",
       "      <th>8</th>\n",
       "      <td>444.7</td>\n",
       "      <td>0.853810</td>\n",
       "      <td>3.699</td>\n",
       "    </tr>\n",
       "    <tr>\n",
       "      <th>9</th>\n",
       "      <td>417.9</td>\n",
       "      <td>0.970000</td>\n",
       "      <td>3.644</td>\n",
       "    </tr>\n",
       "    <tr>\n",
       "      <th>10</th>\n",
       "      <td>396.9</td>\n",
       "      <td>1.065000</td>\n",
       "      <td>3.599</td>\n",
       "    </tr>\n",
       "    <tr>\n",
       "      <th>11</th>\n",
       "      <td>371.4</td>\n",
       "      <td>1.179524</td>\n",
       "      <td>3.543</td>\n",
       "    </tr>\n",
       "    <tr>\n",
       "      <th>12</th>\n",
       "      <td>346.8</td>\n",
       "      <td>1.302381</td>\n",
       "      <td>3.486</td>\n",
       "    </tr>\n",
       "    <tr>\n",
       "      <th>13</th>\n",
       "      <td>319.0</td>\n",
       "      <td>1.440000</td>\n",
       "      <td>3.418</td>\n",
       "    </tr>\n",
       "    <tr>\n",
       "      <th>14</th>\n",
       "      <td>295.7</td>\n",
       "      <td>1.555000</td>\n",
       "      <td>3.358</td>\n",
       "    </tr>\n",
       "    <tr>\n",
       "      <th>15</th>\n",
       "      <td>270.7</td>\n",
       "      <td>1.688095</td>\n",
       "      <td>3.290</td>\n",
       "    </tr>\n",
       "    <tr>\n",
       "      <th>16</th>\n",
       "      <td>245.8</td>\n",
       "      <td>1.825000</td>\n",
       "      <td>3.217</td>\n",
       "    </tr>\n",
       "    <tr>\n",
       "      <th>17</th>\n",
       "      <td>220.1</td>\n",
       "      <td>1.970000</td>\n",
       "      <td>3.137</td>\n",
       "    </tr>\n",
       "    <tr>\n",
       "      <th>18</th>\n",
       "      <td>194.8</td>\n",
       "      <td>2.125000</td>\n",
       "      <td>3.052</td>\n",
       "    </tr>\n",
       "    <tr>\n",
       "      <th>19</th>\n",
       "      <td>157.9</td>\n",
       "      <td>2.370000</td>\n",
       "      <td>2.913</td>\n",
       "    </tr>\n",
       "    <tr>\n",
       "      <th>20</th>\n",
       "      <td>146.5</td>\n",
       "      <td>2.450714</td>\n",
       "      <td>2.866</td>\n",
       "    </tr>\n",
       "    <tr>\n",
       "      <th>21</th>\n",
       "      <td>122.3</td>\n",
       "      <td>2.630000</td>\n",
       "      <td>2.756</td>\n",
       "    </tr>\n",
       "    <tr>\n",
       "      <th>22</th>\n",
       "      <td>95.5</td>\n",
       "      <td>2.844762</td>\n",
       "      <td>2.616</td>\n",
       "    </tr>\n",
       "    <tr>\n",
       "      <th>23</th>\n",
       "      <td>67.7</td>\n",
       "      <td>3.107143</td>\n",
       "      <td>2.438</td>\n",
       "    </tr>\n",
       "    <tr>\n",
       "      <th>24</th>\n",
       "      <td>47.9</td>\n",
       "      <td>3.328571</td>\n",
       "      <td>2.277</td>\n",
       "    </tr>\n",
       "    <tr>\n",
       "      <th>25</th>\n",
       "      <td>22.4</td>\n",
       "      <td>3.735714</td>\n",
       "      <td>1.984</td>\n",
       "    </tr>\n",
       "    <tr>\n",
       "      <th>26</th>\n",
       "      <td>8.1</td>\n",
       "      <td>4.055000</td>\n",
       "      <td>1.689</td>\n",
       "    </tr>\n",
       "    <tr>\n",
       "      <th>27</th>\n",
       "      <td>3.7</td>\n",
       "      <td>4.225000</td>\n",
       "      <td>1.509</td>\n",
       "    </tr>\n",
       "    <tr>\n",
       "      <th>28</th>\n",
       "      <td>2.9</td>\n",
       "      <td>4.265000</td>\n",
       "      <td>1.460</td>\n",
       "    </tr>\n",
       "  </tbody>\n",
       "</table>\n",
       "</div>"
      ],
      "text/plain": [
       "    Pressure (Torr)  Cursor X (V)  Temp (K) (He-4)\n",
       "0             650.5      0.061524            4.061\n",
       "1             615.0      0.183333            4.005\n",
       "2             596.1      0.253333            3.974\n",
       "3             570.2      0.347143            3.930\n",
       "4             543.9      0.442857            3.885\n",
       "5             520.3      0.536000            3.843\n",
       "6             494.4      0.645238            3.795\n",
       "7             472.5      0.736000            3.754\n",
       "8             444.7      0.853810            3.699\n",
       "9             417.9      0.970000            3.644\n",
       "10            396.9      1.065000            3.599\n",
       "11            371.4      1.179524            3.543\n",
       "12            346.8      1.302381            3.486\n",
       "13            319.0      1.440000            3.418\n",
       "14            295.7      1.555000            3.358\n",
       "15            270.7      1.688095            3.290\n",
       "16            245.8      1.825000            3.217\n",
       "17            220.1      1.970000            3.137\n",
       "18            194.8      2.125000            3.052\n",
       "19            157.9      2.370000            2.913\n",
       "20            146.5      2.450714            2.866\n",
       "21            122.3      2.630000            2.756\n",
       "22             95.5      2.844762            2.616\n",
       "23             67.7      3.107143            2.438\n",
       "24             47.9      3.328571            2.277\n",
       "25             22.4      3.735714            1.984\n",
       "26              8.1      4.055000            1.689\n",
       "27              3.7      4.225000            1.509\n",
       "28              2.9      4.265000            1.460"
      ]
     },
     "execution_count": 3,
     "metadata": {},
     "output_type": "execute_result"
    }
   ],
   "source": [
    "Hg_data = pd.read_csv('superconductivity_data.csv')\n",
    "Hg_data"
   ]
  },
  {
   "cell_type": "markdown",
   "metadata": {},
   "source": [
    "Plot the raw data.  Always a good idea to make sure you actually have what you think you have!"
   ]
  },
  {
   "cell_type": "code",
   "execution_count": 4,
   "metadata": {},
   "outputs": [
    {
     "data": {
      "image/png": "[encoded data removed]",
      "text/plain": [
       "<Figure size 900x650 with 1 Axes>"
      ]
     },
     "metadata": {},
     "output_type": "display_data"
    }
   ],
   "source": [
    "# You code this\n",
    "\n",
    "plt.plot(Hg_data[\"Temp (K) (He-4)\"], Hg_data[\"Cursor X (V)\"])\n",
    "plt.title(\"Raw Data\")\n",
    "plt.xlabel(\"Temp (K) (He-4)\")\n",
    "plt.ylabel(\"Cursor X (V)\")\n",
    "plt.grid(True)\n"
   ]
  },
  {
   "cell_type": "markdown",
   "metadata": {},
   "source": [
    "## Make a magnet calibration function\n",
    "\n",
    "Write a function that will convert the transition location in volts to field in gauss.  The Polynomial fit function is shown in the legend of the plot.\n",
    "\n",
    "**Note:** The data are collected in the direction of **decreasing current** (normal to superconducting transition).\n",
    "\n",
    "![Magnet calibration data and fit](magnet_cal_2024.png)"
   ]
  },
  {
   "cell_type": "code",
   "execution_count": 5,
   "metadata": {},
   "outputs": [],
   "source": [
    "## Make your calibration function.\n",
    "\n",
    "## Then test it\n",
    "\n",
    "coeffs = [16.9383, 80.8228, 0.4954, -0.1859]\n",
    "\n",
    "def I2B(I, Cn=coeffs):\n",
    "    '''\n",
    "    Magnet calibration functionfor arbitrary polynomial length.\n",
    "    Assumes that lowest index is constant term.\n",
    "    '''\n",
    "    # You code this\n",
    "    result = np.zeros_like(I)\n",
    "    \n",
    "    for i, coeff in enumerate(Cn):\n",
    "        result += coeff * I**i\n",
    "    \n",
    "    return result\n"
   ]
  },
  {
   "cell_type": "markdown",
   "metadata": {},
   "source": [
    "Overlay the conversion function on the calibration data."
   ]
  },
  {
   "cell_type": "code",
   "execution_count": 6,
   "metadata": {},
   "outputs": [],
   "source": [
    "B = I2B(Hg_data[\"Cursor X (V)\"])"
   ]
  },
  {
   "cell_type": "markdown",
   "metadata": {},
   "source": [
    "## Apply the magnet calibration\n",
    "\n",
    "Convert the transition locations to magnetic field."
   ]
  },
  {
   "cell_type": "code",
   "execution_count": 7,
   "metadata": {},
   "outputs": [
    {
     "data": {
      "text/html": [
       "<div>\n",
       "<style scoped>\n",
       "    .dataframe tbody tr th:only-of-type {\n",
       "        vertical-align: middle;\n",
       "    }\n",
       "\n",
       "    .dataframe tbody tr th {\n",
       "        vertical-align: top;\n",
       "    }\n",
       "\n",
       "    .dataframe thead th {\n",
       "        text-align: right;\n",
       "    }\n",
       "</style>\n",
       "<table border=\"1\" class=\"dataframe\">\n",
       "  <thead>\n",
       "    <tr style=\"text-align: right;\">\n",
       "      <th></th>\n",
       "      <th>Pressure (Torr)</th>\n",
       "      <th>Cursor X (V)</th>\n",
       "      <th>Temp (K) (He-4)</th>\n",
       "      <th>Hc (Gauss)</th>\n",
       "    </tr>\n",
       "  </thead>\n",
       "  <tbody>\n",
       "    <tr>\n",
       "      <th>0</th>\n",
       "      <td>650.5</td>\n",
       "      <td>0.061524</td>\n",
       "      <td>4.061</td>\n",
       "      <td>21.912674</td>\n",
       "    </tr>\n",
       "    <tr>\n",
       "      <th>1</th>\n",
       "      <td>615.0</td>\n",
       "      <td>0.183333</td>\n",
       "      <td>4.005</td>\n",
       "      <td>31.771292</td>\n",
       "    </tr>\n",
       "    <tr>\n",
       "      <th>2</th>\n",
       "      <td>596.1</td>\n",
       "      <td>0.253333</td>\n",
       "      <td>3.974</td>\n",
       "      <td>37.442154</td>\n",
       "    </tr>\n",
       "    <tr>\n",
       "      <th>3</th>\n",
       "      <td>570.2</td>\n",
       "      <td>0.347143</td>\n",
       "      <td>3.930</td>\n",
       "      <td>45.047292</td>\n",
       "    </tr>\n",
       "    <tr>\n",
       "      <th>4</th>\n",
       "      <td>543.9</td>\n",
       "      <td>0.442857</td>\n",
       "      <td>3.885</td>\n",
       "      <td>52.812256</td>\n",
       "    </tr>\n",
       "    <tr>\n",
       "      <th>5</th>\n",
       "      <td>520.3</td>\n",
       "      <td>0.536000</td>\n",
       "      <td>3.843</td>\n",
       "      <td>60.373020</td>\n",
       "    </tr>\n",
       "    <tr>\n",
       "      <th>6</th>\n",
       "      <td>494.4</td>\n",
       "      <td>0.645238</td>\n",
       "      <td>3.795</td>\n",
       "      <td>69.244554</td>\n",
       "    </tr>\n",
       "    <tr>\n",
       "      <th>7</th>\n",
       "      <td>472.5</td>\n",
       "      <td>0.736000</td>\n",
       "      <td>3.754</td>\n",
       "      <td>76.618121</td>\n",
       "    </tr>\n",
       "    <tr>\n",
       "      <th>8</th>\n",
       "      <td>444.7</td>\n",
       "      <td>0.853810</td>\n",
       "      <td>3.699</td>\n",
       "      <td>86.191049</td>\n",
       "    </tr>\n",
       "    <tr>\n",
       "      <th>9</th>\n",
       "      <td>417.9</td>\n",
       "      <td>0.970000</td>\n",
       "      <td>3.644</td>\n",
       "      <td>95.632872</td>\n",
       "    </tr>\n",
       "    <tr>\n",
       "      <th>10</th>\n",
       "      <td>396.9</td>\n",
       "      <td>1.065000</td>\n",
       "      <td>3.599</td>\n",
       "      <td>103.351919</td>\n",
       "    </tr>\n",
       "    <tr>\n",
       "      <th>11</th>\n",
       "      <td>371.4</td>\n",
       "      <td>1.179524</td>\n",
       "      <td>3.543</td>\n",
       "      <td>112.654901</td>\n",
       "    </tr>\n",
       "    <tr>\n",
       "      <th>12</th>\n",
       "      <td>346.8</td>\n",
       "      <td>1.302381</td>\n",
       "      <td>3.486</td>\n",
       "      <td>122.630004</td>\n",
       "    </tr>\n",
       "    <tr>\n",
       "      <th>13</th>\n",
       "      <td>319.0</td>\n",
       "      <td>1.440000</td>\n",
       "      <td>3.418</td>\n",
       "      <td>133.795299</td>\n",
       "    </tr>\n",
       "    <tr>\n",
       "      <th>14</th>\n",
       "      <td>295.7</td>\n",
       "      <td>1.555000</td>\n",
       "      <td>3.358</td>\n",
       "      <td>143.116654</td>\n",
       "    </tr>\n",
       "    <tr>\n",
       "      <th>15</th>\n",
       "      <td>270.7</td>\n",
       "      <td>1.688095</td>\n",
       "      <td>3.290</td>\n",
       "      <td>153.892316</td>\n",
       "    </tr>\n",
       "    <tr>\n",
       "      <th>16</th>\n",
       "      <td>245.8</td>\n",
       "      <td>1.825000</td>\n",
       "      <td>3.217</td>\n",
       "      <td>164.959929</td>\n",
       "    </tr>\n",
       "    <tr>\n",
       "      <th>17</th>\n",
       "      <td>220.1</td>\n",
       "      <td>1.970000</td>\n",
       "      <td>3.137</td>\n",
       "      <td>176.660539</td>\n",
       "    </tr>\n",
       "    <tr>\n",
       "      <th>18</th>\n",
       "      <td>194.8</td>\n",
       "      <td>2.125000</td>\n",
       "      <td>3.052</td>\n",
       "      <td>189.139949</td>\n",
       "    </tr>\n",
       "    <tr>\n",
       "      <th>19</th>\n",
       "      <td>157.9</td>\n",
       "      <td>2.370000</td>\n",
       "      <td>2.913</td>\n",
       "      <td>208.796238</td>\n",
       "    </tr>\n",
       "    <tr>\n",
       "      <th>20</th>\n",
       "      <td>146.5</td>\n",
       "      <td>2.450714</td>\n",
       "      <td>2.866</td>\n",
       "      <td>215.250980</td>\n",
       "    </tr>\n",
       "    <tr>\n",
       "      <th>21</th>\n",
       "      <td>122.3</td>\n",
       "      <td>2.630000</td>\n",
       "      <td>2.756</td>\n",
       "      <td>229.547106</td>\n",
       "    </tr>\n",
       "    <tr>\n",
       "      <th>22</th>\n",
       "      <td>95.5</td>\n",
       "      <td>2.844762</td>\n",
       "      <td>2.616</td>\n",
       "      <td>246.589301</td>\n",
       "    </tr>\n",
       "    <tr>\n",
       "      <th>23</th>\n",
       "      <td>67.7</td>\n",
       "      <td>3.107143</td>\n",
       "      <td>2.438</td>\n",
       "      <td>267.272538</td>\n",
       "    </tr>\n",
       "    <tr>\n",
       "      <th>24</th>\n",
       "      <td>47.9</td>\n",
       "      <td>3.328571</td>\n",
       "      <td>2.277</td>\n",
       "      <td>284.595739</td>\n",
       "    </tr>\n",
       "    <tr>\n",
       "      <th>25</th>\n",
       "      <td>22.4</td>\n",
       "      <td>3.735714</td>\n",
       "      <td>1.984</td>\n",
       "      <td>316.091043</td>\n",
       "    </tr>\n",
       "    <tr>\n",
       "      <th>26</th>\n",
       "      <td>8.1</td>\n",
       "      <td>4.055000</td>\n",
       "      <td>1.689</td>\n",
       "      <td>340.425473</td>\n",
       "    </tr>\n",
       "    <tr>\n",
       "      <th>27</th>\n",
       "      <td>3.7</td>\n",
       "      <td>4.225000</td>\n",
       "      <td>1.509</td>\n",
       "      <td>353.237458</td>\n",
       "    </tr>\n",
       "    <tr>\n",
       "      <th>28</th>\n",
       "      <td>2.9</td>\n",
       "      <td>4.265000</td>\n",
       "      <td>1.460</td>\n",
       "      <td>356.236614</td>\n",
       "    </tr>\n",
       "  </tbody>\n",
       "</table>\n",
       "</div>"
      ],
      "text/plain": [
       "    Pressure (Torr)  Cursor X (V)  Temp (K) (He-4)  Hc (Gauss)\n",
       "0             650.5      0.061524            4.061   21.912674\n",
       "1             615.0      0.183333            4.005   31.771292\n",
       "2             596.1      0.253333            3.974   37.442154\n",
       "3             570.2      0.347143            3.930   45.047292\n",
       "4             543.9      0.442857            3.885   52.812256\n",
       "5             520.3      0.536000            3.843   60.373020\n",
       "6             494.4      0.645238            3.795   69.244554\n",
       "7             472.5      0.736000            3.754   76.618121\n",
       "8             444.7      0.853810            3.699   86.191049\n",
       "9             417.9      0.970000            3.644   95.632872\n",
       "10            396.9      1.065000            3.599  103.351919\n",
       "11            371.4      1.179524            3.543  112.654901\n",
       "12            346.8      1.302381            3.486  122.630004\n",
       "13            319.0      1.440000            3.418  133.795299\n",
       "14            295.7      1.555000            3.358  143.116654\n",
       "15            270.7      1.688095            3.290  153.892316\n",
       "16            245.8      1.825000            3.217  164.959929\n",
       "17            220.1      1.970000            3.137  176.660539\n",
       "18            194.8      2.125000            3.052  189.139949\n",
       "19            157.9      2.370000            2.913  208.796238\n",
       "20            146.5      2.450714            2.866  215.250980\n",
       "21            122.3      2.630000            2.756  229.547106\n",
       "22             95.5      2.844762            2.616  246.589301\n",
       "23             67.7      3.107143            2.438  267.272538\n",
       "24             47.9      3.328571            2.277  284.595739\n",
       "25             22.4      3.735714            1.984  316.091043\n",
       "26              8.1      4.055000            1.689  340.425473\n",
       "27              3.7      4.225000            1.509  353.237458\n",
       "28              2.9      4.265000            1.460  356.236614"
      ]
     },
     "execution_count": 7,
     "metadata": {},
     "output_type": "execute_result"
    }
   ],
   "source": [
    "# Add a column to your data frame.\n",
    "# See the examples for how one can do this.\n",
    "Hg_data['Hc (Gauss)'] = B\n",
    "Hg_data\n"
   ]
  },
  {
   "cell_type": "markdown",
   "metadata": {},
   "source": [
    "## If using [ITS-90 coefficients](https://courses.washington.edu/phys431/superconductivity/ITS-1990_McGlashan_JChemThermo_1990.pdf), make a temperature function\n",
    "\n",
    "Skip this step if you already have found the temperature from the online calculator or old look-up table.\n",
    "\n",
    "Otherwise build a function that converts pressure to temperature from the following formula:\n",
    "\n",
    "$$T/\\text{K} = A_0 + \\sum_{i=1}^{8} A_i\\left[(\\ln(p/\\text{Pa})-B)/C\\right]^i$$\n",
    "\n",
    "NOTE: Pressure must be converted from torr to pascals!\n",
    "\n",
    "The coefficients depend on the pressure.  Helium-4 undergoes a normal to superfluid transition at a particular point called the \"lambda\" point, which is at 31.81661 torr and 2.1768 K.  The vapor pressure curve varies slightly above and below this point.\n",
    "\n",
    "| Coefficient |  $p$ $<$ 31.81661 torr | $p$ $\\ge$ 31.81661 torr |\n",
    "|    :---:    |        ---: |       ---: |\n",
    "|    $A_0$    | 1.392408    | 3.146631   |\n",
    "|    $A_1$    | 0.527153    | 1.357655   |\n",
    "|    $A_2$    | 0.166756    | 0.413923   |\n",
    "|    $A_3$    | 0.050988    | 0.091159   |\n",
    "|    $A_4$    | 0.026514    | 0.016349   |\n",
    "|    $A_5$    | 0.001975    | 0.001826   |\n",
    "|    $A_6$    |-0.017976    |-0.004325   |\n",
    "|    $A_7$    | 0.005409    |-0.004973   |\n",
    "|    $A_8$    | 0.013259    | 0          |\n",
    "|    $B$      | 5.6         | 10.3       |\n",
    "|    $C$      | 2.9         | 1.9        |\n",
    "\n",
    "Below, create your function and test it by feeding in a few values of pressure and checking the temerature output against the values obtained by the [online calculator from Quantum Design](https://qdusa.com/support/helium_vapor_pressure.html).\n",
    "\n",
    "Then apply your function to your array of pressures to obtain the corresponding temperatures.  Don't forget!: your measurements may be in volts, not torr, and the coefficients assume that pressure is in pascals.\n",
    "\n",
    "**ADVICE** \n",
    "\n",
    "Because of the decision that must be made which coefficients to use, it is tricky to make a fuction that will work on a whole NumPy array. But if you use the Uncertainties package version of the math functions, you can make your function propagate the uncertainty in temperature from an uncertainty in the pressure readings. \n",
    "\n",
    "SO: Make your function work on single values (possibly with uncertainty), then use the function in a loop to calculate the temperature values, and build an array with these.  (See the example code on GitHub for how to do this.) "
   ]
  },
  {
   "cell_type": "code",
   "execution_count": 8,
   "metadata": {},
   "outputs": [],
   "source": [
    "# Build a DataFrame or pair of arrays from the coefficients\n",
    "\n",
    "# Print them to double-check\n"
   ]
  },
  {
   "cell_type": "code",
   "execution_count": 9,
   "metadata": {},
   "outputs": [],
   "source": [
    "# Create the function.  The comments in the function body indicate steps to take.\n",
    "\n",
    "#def ITS90_p2T(pressure, p_lambda=31.81661, lowP_coeffs=L_coef, hiP_coeffs=H_coef):\n",
    "    #'''\n",
    "   # Convert pressure in torr to temperature in Kelvin from the ITS-90 coefficients and formula.\n",
    "    #This function is NOT NumPy safe, due to the boolean operation needed to choose the coefficients.\n",
    "    #But it can be used with uncertainty objects.\n",
    "    #'''\n",
    "    # Convert lambda point to Pa\n",
    "    \n",
    "    # Convert pressure to Pa\n",
    "    \n",
    "    # Make a decision which set of coefficients to use, based on whether\n",
    "    # the pressure is above or below the lambda point.\n",
    "        \n",
    "    # Calculate the argument x in the polynomial x = (ln(p) - B)/C\n",
    "    # if you want to calculate with uncertainties, use unp.log(), othrwise np.log()\n",
    "    \n",
    "    # Build a loop to iterate over x\n",
    "    \n",
    "    # Return the calculated temperature\n",
    "  #  return T"
   ]
  },
  {
   "cell_type": "markdown",
   "metadata": {},
   "source": [
    "Test your pressure to temperature function.  Feed a few pressure values in, and check the results against the [online calculator from Quantum Design](https://qdusa.com/support/helium_vapor_pressure.html)"
   ]
  },
  {
   "cell_type": "code",
   "execution_count": 10,
   "metadata": {},
   "outputs": [],
   "source": [
    "# Recommended pressures: 760 torr should give typical BP of liquid helium at 4.2K.  \n",
    "# Lowest pressure of about 3 torr should give near 1.5K.  Check a few points in between as well\n"
   ]
  },
  {
   "cell_type": "markdown",
   "metadata": {},
   "source": [
    "### Convert $p$ to $T$\n",
    "\n",
    "Apply your conversion to the pressure array.  You may need to make a loop to iterate, (unless you know how to deal with boolean operation in NumPy arrays)"
   ]
  },
  {
   "cell_type": "code",
   "execution_count": 11,
   "metadata": {},
   "outputs": [],
   "source": [
    "# Iterate over the pressure array, and build a new array with np.append()\n"
   ]
  },
  {
   "cell_type": "code",
   "execution_count": 12,
   "metadata": {},
   "outputs": [],
   "source": [
    "# Add this to the original dataFrame\n"
   ]
  },
  {
   "cell_type": "markdown",
   "metadata": {},
   "source": [
    "## Plot the reduced data set\n",
    "\n",
    "Plot the data (now in applied field versus temperature, or $H_c$ vs. $T$) so that it mirrors the graph shown in figure 1 of the instructions.  If you see peculiar data points, check for mistakes in transcription or other problems."
   ]
  },
  {
   "cell_type": "code",
   "execution_count": 13,
   "metadata": {},
   "outputs": [
    {
     "data": {
      "image/png": "[encoded data removed]",
      "text/plain": [
       "<Figure size 900x650 with 1 Axes>"
      ]
     },
     "metadata": {},
     "output_type": "display_data"
    }
   ],
   "source": [
    "# You code this\n",
    "\n",
    "plt.plot(Hg_data[\"Temp (K) (He-4)\"], Hg_data[\"Hc (Gauss)\"], 'o')\n",
    "plt.xlabel(\"Temp (K) (He-4)\")\n",
    "plt.ylabel(\"Hc (Gauss)\")\n",
    "plt.grid(True)\n"
   ]
  },
  {
   "cell_type": "markdown",
   "metadata": {},
   "source": [
    "## Linearize the data\n",
    "\n",
    "Rescale the data so that the relationship between the <i>x</i> and <i>y</i> values is linear.  Use equation (1) in the instructions as a guide:\n",
    "\n",
    "$$H_c(T) = H_{c0}\\left[1 - \\left(\\frac{T}{T_c}\\right)^2\\right]\\quad\\quad\\quad\\quad\\quad(1)$$\n",
    "\n",
    "Then plot the results to confirm."
   ]
  },
  {
   "cell_type": "code",
   "execution_count": 14,
   "metadata": {},
   "outputs": [
    {
     "data": {
      "image/png": "[encoded data removed]",
      "text/plain": [
       "<Figure size 900x650 with 1 Axes>"
      ]
     },
     "metadata": {},
     "output_type": "display_data"
    }
   ],
   "source": [
    "## Take the temperature values and square them\n",
    "## Example from DataFrame: uT2 = Hg_data['T_90']*Hg_data['T_90']\n",
    "uT2 = Hg_data['Temp (K) (He-4)'] * Hg_data['Temp (K) (He-4)']\n",
    "Hc = Hg_data['Hc (Gauss)']\n",
    "# Then plot the results.  You should see a pretty good straight line.\n",
    "\n",
    "plt.plot(uT2, Hc, 'o')\n",
    "plt.title(\"\")\n",
    "plt.xlabel(\"T2\")\n",
    "plt.ylabel(\"Hc (Gauss)\")\n",
    "plt.grid(True)\n"
   ]
  },
  {
   "cell_type": "markdown",
   "metadata": {},
   "source": [
    "## Fit the linearized data\n",
    "\n",
    "Obtain the slope and intercept, plus uncertainty."
   ]
  },
  {
   "cell_type": "code",
   "execution_count": 15,
   "metadata": {},
   "outputs": [],
   "source": [
    "from lmfit.models import LinearModel, Model\n",
    "line = LinearModel()"
   ]
  },
  {
   "cell_type": "code",
   "execution_count": 16,
   "metadata": {},
   "outputs": [
    {
     "name": "stdout",
     "output_type": "stream",
     "text": [
      "The slope is: -23.416±0.025 \n",
      "The intercept is: 406.97±0.28 \n"
     ]
    }
   ],
   "source": [
    "# You code this\n",
    "start_params = line.guess(Hc, x = uT2)\n",
    "Line_fit = line.fit(Hc, start_params, x = uT2)\n",
    "\n",
    "line_slope = unc.ufloat(Line_fit.params['slope'].value, \n",
    "                          Line_fit.params['slope'].stderr)\n",
    "\n",
    "line_intercept = unc.ufloat(Line_fit.params['intercept'].value, \n",
    "                          Line_fit.params['intercept'].stderr)\n",
    "\n",
    "print('The slope is: {:.2uP} '.format(line_slope))\n",
    "print('The intercept is: {:.2uP} '.format(line_intercept))"
   ]
  },
  {
   "cell_type": "markdown",
   "metadata": {},
   "source": [
    "## Make a nice big, clear plot\n",
    "\n",
    "Calculate the fit line from eval() and make a large plot, with a grid, data-points with error bars and the fit line on top of the data.  Make sure the fit line goes through both axes so that you can read the critical fiels and critical temperature-squared directly from the plot."
   ]
  },
  {
   "cell_type": "code",
   "execution_count": 17,
   "metadata": {},
   "outputs": [
    {
     "data": {
      "text/plain": [
       "<matplotlib.legend.Legend at 0x2694db32510>"
      ]
     },
     "execution_count": 17,
     "metadata": {},
     "output_type": "execute_result"
    },
    {
     "data": {
      "image/png": "[encoded data removed]",
      "text/plain": [
       "<Figure size 900x650 with 1 Axes>"
      ]
     },
     "metadata": {},
     "output_type": "display_data"
    }
   ],
   "source": [
    "## Make a big plot. Show the fit line going all the way \n",
    "uT2_x = np.linspace(0, uT2.max(), 150)\n",
    "plt.plot(uT2_x, Line_fit.eval(x = uT2_x), label = 'Fit')\n",
    "plt.plot(uT2, Hc, 'o', label = 'Data')\n",
    "plt.title(\"Magnetic Field vs Temperature Squared\")\n",
    "plt.xlabel(\"Temp (K) (He-4)\")\n",
    "plt.ylabel(\"Hc (Gauss)\")\n",
    "plt.grid(True)\n",
    "plt.legend()"
   ]
  },
  {
   "cell_type": "markdown",
   "metadata": {},
   "source": [
    "## Obtain the critical field and temperature\n",
    "\n",
    "Calculate $H_{c0}$ and $T_c$ from the fit results (with uncertainty)."
   ]
  },
  {
   "cell_type": "code",
   "execution_count": 18,
   "metadata": {},
   "outputs": [
    {
     "name": "stdout",
     "output_type": "stream",
     "text": [
      "Critical Field and Temperature\n",
      "Hc0 = 406.97±0.28 gauss\n",
      "Tc = 4.1689±0.0026 K\n"
     ]
    }
   ],
   "source": [
    "# You code this.\n",
    "\n",
    "Hc0 = line_intercept\n",
    "Tc = um.sqrt(Hc0/(-1 * line_slope))\n",
    "\n",
    "#Printing results\n",
    "print(\"Critical Field and Temperature\")\n",
    "print('Hc0 = {:.2uP} gauss'.format(Hc0))\n",
    "print('Tc = {:.2uP} K'.format(Tc))"
   ]
  },
  {
   "cell_type": "markdown",
   "metadata": {},
   "source": [
    "## Fit the \"unlinearized\" data\n",
    "\n",
    "Use the LMFit `Model()` class to create a non-linear fit function in the form of equation (1).  Then use it to fit the unlinearized data of $H_c$ vs. $T$ directly.  In this version, the fit parameters should be the values of $H_{c0}$ vs. $T_c$.  \n",
    "\n",
    "An example of using the `Model()` class to fit an arbitrary function is given in this notebook: [Example of LMFit Model Custom Function](Example%20LMFit%20Model%20with%20Arbitrary%20Function.ipynb) (The notebook should be in your working subdirectory)."
   ]
  },
  {
   "cell_type": "code",
   "execution_count": 19,
   "metadata": {},
   "outputs": [
    {
     "name": "stdout",
     "output_type": "stream",
     "text": [
      "[[Model]]\n",
      "    Model(phase_curve)\n",
      "[[Fit Statistics]]\n",
      "    # fitting method   = leastsq\n",
      "    # function evals   = 4\n",
      "    # data points      = 29\n",
      "    # variables        = 2\n",
      "    chi-square         = 8.82382195\n",
      "    reduced chi-square = 0.32680822\n",
      "    Akaike info crit   = -30.5053811\n",
      "    Bayesian info crit = -27.7707894\n",
      "    R-squared          = 0.99997023\n",
      "[[Variables]]\n",
      "    Hc0:  406.966641 +/- 0.27836084 (0.07%) (init = 406.9666)\n",
      "    Tc:   4.16889972 +/- 0.00102660 (0.02%) (init = 4.1689)\n",
      "[[Correlations]] (unreported correlations are < 0.100)\n",
      "    C(Hc0, Tc) = -0.5821\n",
      "Nonlinear Fit Values:\n",
      "Hc0 = 406.97±0.28 gauss\n",
      "Tc = 4.1689±0.0010 K\n"
     ]
    }
   ],
   "source": [
    "# Follow the example for a nonlinear fitting function in the example notebook.\n",
    "\n",
    "# You will need to define the function correctly, and also provide staring \n",
    "# values for the critical tempeature and critical field.\n",
    "\n",
    "## Define the fit function\n",
    "def phase_curve(T, Hc0, Tc):\n",
    "    return Hc0 * (1 - (T/Tc)**2)\n",
    "\n",
    "## pull in the Model class and set up the fit\n",
    "curve = Model(phase_curve)\n",
    "\n",
    "new_fit = curve.fit(Hg_data[\"Hc (Gauss)\"], T = Hg_data['Temp (K) (He-4)'],\n",
    "                    Hc0 = Hc0.nominal_value, Tc = Tc.nominal_value)\n",
    "\n",
    "Hc0_nonlin = unc.ufloat(new_fit.params['Hc0'].value, new_fit.params['Hc0'].stderr)\n",
    "Tc2 = unc.ufloat(new_fit.params['Tc'].value, new_fit.params['Tc'].stderr)\n",
    "\n",
    "#Printing Information\n",
    "print(new_fit.fit_report())\n",
    "print(\"Nonlinear Fit Values:\")\n",
    "print('Hc0 = {:.2uP} gauss'.format(Hc0_nonlin))\n",
    "print('Tc = {:.2uP} K'.format(Tc2))\n",
    "\n",
    "## Fit and plot\n",
    "T_eval = np.linspace(0, Hg_data['Temp (K) (He-4)'].max() + 0.2, 100)\n",
    "init_fit = new_fit.model.eval(params = new_fit.init_params, T = T_eval)\n",
    "best_fit = new_fit.model.eval(params = new_fit.params, T = T_eval)\n"
   ]
  },
  {
   "cell_type": "markdown",
   "metadata": {},
   "source": [
    "## Make another big, clear plot\n",
    "\n",
    "Make a nice plot for this type of fit, similar to what you did above, showing the fit line intersecting both axes."
   ]
  },
  {
   "cell_type": "code",
   "execution_count": 20,
   "metadata": {},
   "outputs": [
    {
     "data": {
      "text/plain": [
       "<matplotlib.legend.Legend at 0x2694cb3a510>"
      ]
     },
     "execution_count": 20,
     "metadata": {},
     "output_type": "execute_result"
    },
    {
     "data": {
      "image/png": "[encoded data removed]",
      "text/plain": [
       "<Figure size 900x650 with 1 Axes>"
      ]
     },
     "metadata": {},
     "output_type": "display_data"
    }
   ],
   "source": [
    "## Make a big plot\n",
    "plt.plot(Hg_data['Temp (K) (He-4)'], Hg_data['Hc (Gauss)'], 'o', label = 'Data')\n",
    "plt.plot(T_eval, best_fit, '-', label = 'Fit')\n",
    "plt.title('Non-Linear Fit of Magnetic Field vs Temperature') \n",
    "plt.xlabel('Temperature (K)')\n",
    "plt.ylabel('Magnetic Field (Gauss)')\n",
    "plt.legend()\n"
   ]
  },
  {
   "cell_type": "markdown",
   "metadata": {},
   "source": [
    "## Compare the fit results\n",
    "\n",
    "Compare the fit results from both procedures to each other: do they agree within their uncertainty?  Do the fit results agree with handbook or text values?  Print the all in a single table for easy comparison."
   ]
  },
  {
   "cell_type": "code",
   "execution_count": 21,
   "metadata": {},
   "outputs": [
    {
     "name": "stdout",
     "output_type": "stream",
     "text": [
      "Comparison of fit results:\n",
      "   Tc (K)   |   Hc0 (G)   \n",
      "------------|-------------\n",
      "4.1689±0.0026 | 406.97±0.28     (from linearized data)\n",
      "4.169±0.001 | 406.97±0.28       (from nonlinear fit)\n",
      "    4.15    | 410.0             (handbook)\n"
     ]
    }
   ],
   "source": [
    "# Table\n",
    "print('Comparison of fit results:')\n",
    "print('   Tc (K)   |   Hc0 (G)   ')\n",
    "print('------------|-------------')\n",
    "print('{:.2uP} | {:.2uP}     (from linearized data)'.format(Tc,Hc0))\n",
    "print('{:.1uP} | {:.2uP}       (from nonlinear fit)'.format(Tc2,Hc0_nonlin))\n",
    "print('{:8.2f}    | {:.1f}             (handbook)'.format(4.15,410.0))"
   ]
  },
  {
   "cell_type": "code",
   "execution_count": null,
   "metadata": {},
   "outputs": [],
   "source": []
  }
 ],
 "metadata": {
  "kernelspec": {
   "display_name": "Python 3 (ipykernel)",
   "language": "python",
   "name": "python3"
  },
  "language_info": {
   "codemirror_mode": {
    "name": "ipython",
    "version": 3
   },
   "file_extension": ".py",
   "mimetype": "text/x-python",
   "name": "python",
   "nbconvert_exporter": "python",
   "pygments_lexer": "ipython3",
   "version": "3.11.7"
  }
 },
 "nbformat": 4,
 "nbformat_minor": 4
}
