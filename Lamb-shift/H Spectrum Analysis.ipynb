{
 "cells": [
  {
   "cell_type": "markdown",
   "metadata": {},
   "source": [
    "# Analysis for the Hydrogen Laser Spectroscopy Experiment"
   ]
  },
  {
   "cell_type": "code",
   "execution_count": 1,
   "metadata": {},
   "outputs": [],
   "source": [
    "# Run this cell with Shift-Enter, and wait until the asterisk changes to a number, i.e., [*] becomes [1]\n",
    "import numpy as np\n",
    "import scipy.constants as const\n",
    "import uncertainties as unc\n",
    "import uncertainties.unumpy as up\n",
    "import matplotlib.pyplot as plt\n",
    "import pandas as pd\n",
    "%matplotlib inline"
   ]
  },
  {
   "cell_type": "code",
   "execution_count": 2,
   "metadata": {},
   "outputs": [],
   "source": [
    "# Set up plot defaults\n",
    "import matplotlib as mpl\n",
    "mpl.rcParams['figure.figsize'] = 11.0,8.0  # Roughly 11 cm wde by 8 cm high\n",
    "mpl.rcParams['font.size'] = 12.0 # Use 12 point font"
   ]
  },
  {
   "cell_type": "markdown",
   "metadata": {},
   "source": [
    "## Summary of tasks\n",
    "\n",
    "### Prior to working on this notebook\n",
    "\n",
    "1. Work out exercises 1, 2 and 10.  These concern the Balmer-$\\alpha$ wavelength, the term diagram of the $n=2$ to $n=3$ transitions and selection rules, and the overall layout of Doppler-free beam-crosssing method of laser spectrosopy.\n",
    "\n",
    "\n",
    "2. Obtain chart-recorder scans for the two hydrogen spectrum data runs (one for \"left-to-right\" scan, i.e., decreasing wavelength, the other for \"right-to-left\", or increasing wavelength).\n",
    "\n",
    "\n",
    "3. Extract from each scan the positions in scan units (voltage or paper grid) of (1) the peaks in the Fabry-Perot (F-P) mirror output, and (2) positions of the 5 obvious peaks in the probe-beam measurement. Positions should be estimated to at least three significant figures in the measurement unit.  The F-P peak positions do not need uncertainties, but you should assign an uncertainty to the prob-beam peak positions.\n",
    "\n",
    "\n",
    "4. Obtain the Fabry-Perot mirror separation measurements.  You should have 6-8 separate measurements to average.\n",
    "\n",
    "\n",
    "5. Create spreadsheets with these data to be read into the notebook for further processing.  Recommended: one .xlsx file with 5 tabs (worksheets), or 5 separate .csv files, one for the mirror measurements and one for each set of peak position measurements.  Read them in with either Pandas `read_csv()` or `read_excel()`.\n",
    "\n",
    "\n",
    "### Tasks for this notebook\n",
    "\n",
    "Convert the mirror separation measurements to meters and calculate the separation with its uncertainty (\"standard deviation of the mean\").  Then calculate the free spectral range in MHz with uncertainty. \n",
    "\n",
    "For each scan:\n",
    "\n",
    "<blockquote>\n",
    "Plot the F-P peak index (y-axis) versus its position (x-axis).  Fit this to a 3rd-order polynomial to produce calibration coefficients.\n",
    "\n",
    "Create a calibration function that takes XY recorder positions and returns position in FSR units (relative to an arbitrary origin).\n",
    "\n",
    "Use the calibration function to convert probe-beam peak positions to positions in FSR units. Incorporate the uncertainty in the probe-beam peak positions to get uncertainty in FSR units.  \n",
    "\n",
    "Convert the FSR units to frequency using the free spectral range, including uncertaities.\n",
    "\n",
    "Finally, calculate the frequency separations requested, among them the \"Lamb shift\" which is the difference between the 2S<sub>1/2</sub>-3P<sub>3/2</sub> and 2P<sub>1/2</sub>-3D<sub>3/2</sub> transitions.\n",
    "</blockquote>\n",
    "\n",
    "Once the above has been completed for both scans, combine the results to obtain the the best values for the fine-structure frequency separations, and compare the measurements to the expected values.  (these can be found in the experiment instructions.)"
   ]
  },
  {
   "cell_type": "markdown",
   "metadata": {},
   "source": [
    "## Read in the hydrogen spectrum data"
   ]
  },
  {
   "cell_type": "code",
   "execution_count": 3,
   "metadata": {},
   "outputs": [
    {
     "data": {
      "text/plain": [
       "{'F-P Data':    Distance1(mm)  Distance2(mm)  Distance3(mm)  Distance4(mm)  Distance5(mm)  \\\n",
       " 0          99.25           96.2           96.2           96.8           99.1   \n",
       " \n",
       "    Average(mm)  StandardDeviation(mm)  Mirror1Recess(mm)  Mirror2Recess(mm)  \n",
       " 0        97.51               1.540454              0.015              0.005  ,\n",
       " 'Down Probe':    Peak   Peak(V)  PeakLowerUnc(V)  PeakUpperUnc(V)\n",
       " 0     1 -0.735607        -0.744638        -0.724882\n",
       " 1     2 -0.191773        -0.201498        -0.185289\n",
       " 2     3 -0.032209        -0.039773        -0.023924\n",
       " 3     4  0.131025         0.122672         0.142088\n",
       " 4     5  0.240301         0.230367         0.251590,\n",
       " 'Up Probe':    Peak   Peak(V)  PeakLowerUnc(V)  PeakUpperUnc(V)\n",
       " 0     1 -0.529370        -0.540884        -0.516952\n",
       " 1     2  0.069289         0.062844         0.074123\n",
       " 2     3  0.230427         0.223981         0.240095\n",
       " 3     4  0.387770         0.380151         0.400470\n",
       " 4     5  0.490499         0.482032         0.500094,\n",
       " 'Up Pump':     Peak   Peak(V)  PeakLowerUnc(V)  PeakUpperUnc(V)\n",
       " 0      1 -0.892322        -0.922654        -0.864265\n",
       " 1      2 -0.699431        -0.734597        -0.671564\n",
       " 2      3 -0.523602        -0.551469        -0.497062\n",
       " 3      4 -0.348436        -0.374976        -0.319242\n",
       " 4      5 -0.181137        -0.212417        -0.160284\n",
       " 5      6 -0.028910        -0.056019        -0.004929\n",
       " 6      7  0.124360         0.099336         0.143128\n",
       " 7      8  0.270332         0.243223         0.291185\n",
       " 8      9  0.418389         0.394408         0.437156\n",
       " 9     10  0.561232         0.538294         0.585213\n",
       " 10    11  0.693649         0.671754         0.712417,\n",
       " 'Down Pump':     Peak   Peak(V)  PeakLowerUnc(V)  PeakUpperUnc(V)\n",
       " 0      1 -1.101706        -1.130711        -1.079147\n",
       " 1      2 -0.947014        -0.977630        -0.926066\n",
       " 2      3 -0.800379        -0.822938        -0.785877\n",
       " 3      4 -0.663412        -0.687583        -0.636019\n",
       " 4      5 -0.513555        -0.539336        -0.489384\n",
       " 5      6 -0.368531        -0.391090        -0.341137\n",
       " 6      7 -0.217062        -0.238009        -0.194502\n",
       " 7      8 -0.076872        -0.101043        -0.051090\n",
       " 8      9  0.076209         0.053649         0.098768\n",
       " 9     10  0.235735         0.208341         0.261517\n",
       " 10    11  0.388815         0.363033         0.414597}"
      ]
     },
     "execution_count": 3,
     "metadata": {},
     "output_type": "execute_result"
    }
   ],
   "source": [
    "# Read in the data\n",
    "Hdata = pd.read_excel(\"Laser Spectroscopy Data.xlsx\", sheet_name = None)\n",
    "Hdata"
   ]
  },
  {
   "cell_type": "code",
   "execution_count": 4,
   "metadata": {},
   "outputs": [
    {
     "data": {
      "text/html": [
       "<div>\n",
       "<style scoped>\n",
       "    .dataframe tbody tr th:only-of-type {\n",
       "        vertical-align: middle;\n",
       "    }\n",
       "\n",
       "    .dataframe tbody tr th {\n",
       "        vertical-align: top;\n",
       "    }\n",
       "\n",
       "    .dataframe thead th {\n",
       "        text-align: right;\n",
       "    }\n",
       "</style>\n",
       "<table border=\"1\" class=\"dataframe\">\n",
       "  <thead>\n",
       "    <tr style=\"text-align: right;\">\n",
       "      <th></th>\n",
       "      <th>Peak</th>\n",
       "      <th>Peak(V)</th>\n",
       "      <th>PeakLowerUnc(V)</th>\n",
       "      <th>PeakUpperUnc(V)</th>\n",
       "    </tr>\n",
       "  </thead>\n",
       "  <tbody>\n",
       "    <tr>\n",
       "      <th>0</th>\n",
       "      <td>1</td>\n",
       "      <td>-1.101706</td>\n",
       "      <td>-1.130711</td>\n",
       "      <td>-1.079147</td>\n",
       "    </tr>\n",
       "    <tr>\n",
       "      <th>1</th>\n",
       "      <td>2</td>\n",
       "      <td>-0.947014</td>\n",
       "      <td>-0.977630</td>\n",
       "      <td>-0.926066</td>\n",
       "    </tr>\n",
       "    <tr>\n",
       "      <th>2</th>\n",
       "      <td>3</td>\n",
       "      <td>-0.800379</td>\n",
       "      <td>-0.822938</td>\n",
       "      <td>-0.785877</td>\n",
       "    </tr>\n",
       "    <tr>\n",
       "      <th>3</th>\n",
       "      <td>4</td>\n",
       "      <td>-0.663412</td>\n",
       "      <td>-0.687583</td>\n",
       "      <td>-0.636019</td>\n",
       "    </tr>\n",
       "    <tr>\n",
       "      <th>4</th>\n",
       "      <td>5</td>\n",
       "      <td>-0.513555</td>\n",
       "      <td>-0.539336</td>\n",
       "      <td>-0.489384</td>\n",
       "    </tr>\n",
       "    <tr>\n",
       "      <th>5</th>\n",
       "      <td>6</td>\n",
       "      <td>-0.368531</td>\n",
       "      <td>-0.391090</td>\n",
       "      <td>-0.341137</td>\n",
       "    </tr>\n",
       "    <tr>\n",
       "      <th>6</th>\n",
       "      <td>7</td>\n",
       "      <td>-0.217062</td>\n",
       "      <td>-0.238009</td>\n",
       "      <td>-0.194502</td>\n",
       "    </tr>\n",
       "    <tr>\n",
       "      <th>7</th>\n",
       "      <td>8</td>\n",
       "      <td>-0.076872</td>\n",
       "      <td>-0.101043</td>\n",
       "      <td>-0.051090</td>\n",
       "    </tr>\n",
       "    <tr>\n",
       "      <th>8</th>\n",
       "      <td>9</td>\n",
       "      <td>0.076209</td>\n",
       "      <td>0.053649</td>\n",
       "      <td>0.098768</td>\n",
       "    </tr>\n",
       "    <tr>\n",
       "      <th>9</th>\n",
       "      <td>10</td>\n",
       "      <td>0.235735</td>\n",
       "      <td>0.208341</td>\n",
       "      <td>0.261517</td>\n",
       "    </tr>\n",
       "    <tr>\n",
       "      <th>10</th>\n",
       "      <td>11</td>\n",
       "      <td>0.388815</td>\n",
       "      <td>0.363033</td>\n",
       "      <td>0.414597</td>\n",
       "    </tr>\n",
       "  </tbody>\n",
       "</table>\n",
       "</div>"
      ],
      "text/plain": [
       "    Peak   Peak(V)  PeakLowerUnc(V)  PeakUpperUnc(V)\n",
       "0      1 -1.101706        -1.130711        -1.079147\n",
       "1      2 -0.947014        -0.977630        -0.926066\n",
       "2      3 -0.800379        -0.822938        -0.785877\n",
       "3      4 -0.663412        -0.687583        -0.636019\n",
       "4      5 -0.513555        -0.539336        -0.489384\n",
       "5      6 -0.368531        -0.391090        -0.341137\n",
       "6      7 -0.217062        -0.238009        -0.194502\n",
       "7      8 -0.076872        -0.101043        -0.051090\n",
       "8      9  0.076209         0.053649         0.098768\n",
       "9     10  0.235735         0.208341         0.261517\n",
       "10    11  0.388815         0.363033         0.414597"
      ]
     },
     "execution_count": 4,
     "metadata": {},
     "output_type": "execute_result"
    }
   ],
   "source": [
    "# Display\n",
    "Hdata[\"Down Pump\"]"
   ]
  },
  {
   "cell_type": "markdown",
   "metadata": {},
   "source": [
    "##  Mirror separation & Free spectral range\n",
    "\n",
    "Calculate the mean and standard deviation of the mean and save in an uncertainty object.\n",
    "\n",
    "Calculate the free spectral range in Hz (with uncertainty).  The free spectral range is \n",
    "\n",
    "$$ FSR = \\frac{c}{2d}$$"
   ]
  },
  {
   "cell_type": "code",
   "execution_count": 5,
   "metadata": {
    "scrolled": true
   },
   "outputs": [
    {
     "data": {
      "text/html": [
       "<div>\n",
       "<style scoped>\n",
       "    .dataframe tbody tr th:only-of-type {\n",
       "        vertical-align: middle;\n",
       "    }\n",
       "\n",
       "    .dataframe tbody tr th {\n",
       "        vertical-align: top;\n",
       "    }\n",
       "\n",
       "    .dataframe thead th {\n",
       "        text-align: right;\n",
       "    }\n",
       "</style>\n",
       "<table border=\"1\" class=\"dataframe\">\n",
       "  <thead>\n",
       "    <tr style=\"text-align: right;\">\n",
       "      <th></th>\n",
       "      <th>Distance1(mm)</th>\n",
       "      <th>Distance2(mm)</th>\n",
       "      <th>Distance3(mm)</th>\n",
       "      <th>Distance4(mm)</th>\n",
       "      <th>Distance5(mm)</th>\n",
       "      <th>Average(mm)</th>\n",
       "      <th>StandardDeviation(mm)</th>\n",
       "      <th>Mirror1Recess(mm)</th>\n",
       "      <th>Mirror2Recess(mm)</th>\n",
       "    </tr>\n",
       "  </thead>\n",
       "  <tbody>\n",
       "    <tr>\n",
       "      <th>0</th>\n",
       "      <td>99.25</td>\n",
       "      <td>96.2</td>\n",
       "      <td>96.2</td>\n",
       "      <td>96.8</td>\n",
       "      <td>99.1</td>\n",
       "      <td>97.51</td>\n",
       "      <td>1.540454</td>\n",
       "      <td>0.015</td>\n",
       "      <td>0.005</td>\n",
       "    </tr>\n",
       "  </tbody>\n",
       "</table>\n",
       "</div>"
      ],
      "text/plain": [
       "   Distance1(mm)  Distance2(mm)  Distance3(mm)  Distance4(mm)  Distance5(mm)  \\\n",
       "0          99.25           96.2           96.2           96.8           99.1   \n",
       "\n",
       "   Average(mm)  StandardDeviation(mm)  Mirror1Recess(mm)  Mirror2Recess(mm)  \n",
       "0        97.51               1.540454              0.015              0.005  "
      ]
     },
     "execution_count": 5,
     "metadata": {},
     "output_type": "execute_result"
    }
   ],
   "source": [
    "# Show a table of the mirror separation values\n",
    "Hdata[\"F-P Data\"]\n"
   ]
  },
  {
   "cell_type": "code",
   "execution_count": 6,
   "metadata": {},
   "outputs": [
    {
     "name": "stdout",
     "output_type": "stream",
     "text": [
      "Fabry-Perot mirror separation = 9.8±0.1 cm\n",
      "F-P set free spectral range = (1.54±0.02)×10³ MHz\n"
     ]
    }
   ],
   "source": [
    "# Calculate the mean, standard deviation, and standard deviation of the mean \n",
    "# of the mirror separation values in meters.\n",
    "\n",
    "#Use recess data to adjust measurements for it\n",
    "MRecess = Hdata[\"F-P Data\"][\"Mirror1Recess(mm)\"][0] + Hdata[\"F-P Data\"][\"Mirror1Recess(mm)\"][0]\n",
    "\n",
    "#Convert to meters\n",
    "FP_sep = (Hdata[\"F-P Data\"][\"Average(mm)\"][0] + MRecess) * 10**-3\n",
    "\n",
    "FP_sep_stderr = np.std(Hdata[\"F-P Data\"].iloc[0,:5]) * 10**-3\n",
    "\n",
    "# Build an uncertainty object to hold the mirror separation with its uncertainty.\n",
    "# Print the mirrr separation and uncertainty in cm.\n",
    "\n",
    "uFP_sep = unc.ufloat(FP_sep, FP_sep_stderr)\n",
    "print('Fabry-Perot mirror separation = {:.1uP} cm'.format(uFP_sep/const.centi))\n",
    "\n",
    "# Print the free spectral range in MHz\n",
    "\n",
    "uFSR = const.c/(2*uFP_sep)\n",
    "print('F-P set free spectral range = {:.1uP} MHz'.format(uFSR/const.mega))"
   ]
  },
  {
   "cell_type": "markdown",
   "metadata": {},
   "source": [
    "## Left-to-right scan analysis\n",
    "\n",
    "### Fit the FP peaks\n",
    "\n",
    "First, make a table of the FP peak locations.\n",
    "\n",
    "Create an array of **indices** of the F-P peak locations. \n",
    "\n",
    "Fit the index array (y-axis) vs. peak locations (x-axis) to a 3rd-order polynomial to obtain calibration constants. "
   ]
  },
  {
   "cell_type": "code",
   "execution_count": 7,
   "metadata": {},
   "outputs": [],
   "source": [
    "# The indices of the Pandas DataFrame are given by the attribute 'index'\n",
    "# To get an array with these indices, make a Python list, e.g., 'list(DataFrame.index)'\n",
    "\n",
    "#Use up pump data to setup the indices\n",
    "indices = list(Hdata[\"Up Pump\"].index)\n"
   ]
  },
  {
   "cell_type": "markdown",
   "metadata": {},
   "source": [
    "Then set up the fitting."
   ]
  },
  {
   "cell_type": "code",
   "execution_count": 8,
   "metadata": {},
   "outputs": [],
   "source": [
    "# Use a polynmial of degree=3\n",
    "from lmfit.models import PolynomialModel\n",
    "\n",
    "curve = PolynomialModel(degree=3)\n",
    "\n",
    "# The return is the fit parameters structure\n",
    "\n",
    "def poly_fit_and_plot(xdata, ydata, yerr=None, model=PolynomialModel(degree=3), xlabel='X', ylabel='Y', show=True):\n",
    "    '''\n",
    "    Fit a line or curve, and plot/show the fit results.\n",
    "    The function returns a parameters object with the fit parameters\n",
    "    '''\n",
    "    param_guess = model.guess(ydata, x=xdata)\n",
    "    if (yerr is None):\n",
    "        model_fit = model.fit(ydata, param_guess, x=xdata)\n",
    "    else:\n",
    "        model_fit = model.fit(ydata, param_guess, x=xdata, weights=1/yerr)\n",
    "    if show==True:\n",
    "        print(model_fit.fit_report(show_correl=False))\n",
    "        model_fit.plot()\n",
    "        plt.xlabel(xlabel)\n",
    "        plt.ylabel(ylabel);\n",
    "\n",
    "    return model_fit.params"
   ]
  },
  {
   "cell_type": "markdown",
   "metadata": {},
   "source": [
    "Execute the fitting."
   ]
  },
  {
   "cell_type": "code",
   "execution_count": 9,
   "metadata": {},
   "outputs": [
    {
     "name": "stdout",
     "output_type": "stream",
     "text": [
      "[[Model]]\n",
      "    Model(polynomial)\n",
      "[[Fit Statistics]]\n",
      "    # fitting method   = leastsq\n",
      "    # function evals   = 11\n",
      "    # data points      = 11\n",
      "    # variables        = 4\n",
      "    chi-square         = 0.97818824\n",
      "    reduced chi-square = 0.13974118\n",
      "    Akaike info crit   = -18.6194327\n",
      "    Bayesian info crit = -17.0278516\n",
      "    R-squared          = 0.99997855\n",
      "[[Variables]]\n",
      "    c0:  5.17681666 +/- 0.00834359 (0.16%) (init = 5.176902)\n",
      "    c1:  6.48488877 +/- 0.02868969 (0.44%) (init = 6.488112)\n",
      "    c2:  0.70101488 +/- 0.02789660 (3.98%) (init = 0.6971043)\n",
      "    c3: -0.07098425 +/- 0.05940504 (83.69%) (init = -0.07986113)\n"
     ]
    }
   ],
   "source": [
    "# Carry out the fit, show the results, and save the fit parameters\n",
    "PeakUnc_up = abs((Hdata[\"Up Pump\"][\"PeakLowerUnc(V)\"] - Hdata[\"Up Pump\"][\"PeakUpperUnc(V)\"]))\n",
    "\n",
    "upPump_params = poly_fit_and_plot(Hdata[\"Up Pump\"][\"Peak(V)\"], indices, yerr = PeakUnc_up,\n",
    "                                 xlabel = \"Fabry-Perot Peak Locations L-R (V)\", ylabel = \"Peak Index\")"
   ]
  },
  {
   "cell_type": "markdown",
   "metadata": {},
   "source": [
    "### Make the calibration function\n",
    "\n",
    "You can use the same method to make the calibration curve as you may have used in the Zeeman effect experiment or Franck-Hertz experiment, e.g., use `eval()` with the fit coefficients."
   ]
  },
  {
   "cell_type": "code",
   "execution_count": 10,
   "metadata": {},
   "outputs": [
    {
     "name": "stdout",
     "output_type": "stream",
     "text": [
      "0    1.951+/-0.021\n",
      "1    5.629+/-0.009\n",
      "2    6.707+/-0.011\n",
      "3    7.793+/-0.015\n",
      "4    8.518+/-0.019\n",
      "Name: Peak(V), dtype: object\n"
     ]
    }
   ],
   "source": [
    "# Define a calibration function\n",
    "\n",
    "# Start by defining a function which obstains the coefficient\n",
    "def get_ucoeff(params,coeff):\n",
    "    return unc.ufloat(params[coeff].value, params[coeff].stderr)\n",
    "    \n",
    "def cal(xdata, fit_params):\n",
    "  # Fill in function\n",
    "    c0 = get_ucoeff(fit_params, \"c0\")\n",
    "    c1 = get_ucoeff(fit_params, \"c1\")\n",
    "    c2 = get_ucoeff(fit_params, \"c2\")\n",
    "    c3 = get_ucoeff(fit_params, \"c3\")\n",
    "    ydata = c3 * (xdata**3) + c2*(xdata**2) + c1 * xdata + c0\n",
    "\n",
    "    return ydata\n",
    "    \n",
    "# Test\n",
    "print(cal(Hdata[\"Up Probe\"][\"Peak(V)\"], upPump_params))"
   ]
  },
  {
   "cell_type": "markdown",
   "metadata": {},
   "source": [
    "### Calculate the spectrum "
   ]
  },
  {
   "cell_type": "code",
   "execution_count": 11,
   "metadata": {},
   "outputs": [
    {
     "name": "stdout",
     "output_type": "stream",
     "text": [
      "Left-to-right scan probe-beam peak locations:\n"
     ]
    },
    {
     "data": {
      "text/html": [
       "<div>\n",
       "<style scoped>\n",
       "    .dataframe tbody tr th:only-of-type {\n",
       "        vertical-align: middle;\n",
       "    }\n",
       "\n",
       "    .dataframe tbody tr th {\n",
       "        vertical-align: top;\n",
       "    }\n",
       "\n",
       "    .dataframe thead th {\n",
       "        text-align: right;\n",
       "    }\n",
       "</style>\n",
       "<table border=\"1\" class=\"dataframe\">\n",
       "  <thead>\n",
       "    <tr style=\"text-align: right;\">\n",
       "      <th></th>\n",
       "      <th>Paper</th>\n",
       "      <th>FSR</th>\n",
       "      <th>MHz</th>\n",
       "      <th>Rel MHz</th>\n",
       "    </tr>\n",
       "  </thead>\n",
       "  <tbody>\n",
       "    <tr>\n",
       "      <th>0</th>\n",
       "      <td>-0.529+/-0.012</td>\n",
       "      <td>1.95+/-0.07</td>\n",
       "      <td>(3.00+/-0.12)e+03</td>\n",
       "      <td>0.0+/-0</td>\n",
       "    </tr>\n",
       "    <tr>\n",
       "      <th>1</th>\n",
       "      <td>0.069+/-0.006</td>\n",
       "      <td>5.63+/-0.04</td>\n",
       "      <td>(8.65+/-0.14)e+03</td>\n",
       "      <td>(5.65+/-0.15)e+03</td>\n",
       "    </tr>\n",
       "    <tr>\n",
       "      <th>2</th>\n",
       "      <td>0.230+/-0.008</td>\n",
       "      <td>6.71+/-0.06</td>\n",
       "      <td>(1.031+/-0.017)e+04</td>\n",
       "      <td>(7.31+/-0.17)e+03</td>\n",
       "    </tr>\n",
       "    <tr>\n",
       "      <th>3</th>\n",
       "      <td>0.388+/-0.010</td>\n",
       "      <td>7.79+/-0.07</td>\n",
       "      <td>(1.198+/-0.020)e+04</td>\n",
       "      <td>(8.98+/-0.20)e+03</td>\n",
       "    </tr>\n",
       "    <tr>\n",
       "      <th>4</th>\n",
       "      <td>0.490+/-0.009</td>\n",
       "      <td>8.52+/-0.07</td>\n",
       "      <td>(1.309+/-0.021)e+04</td>\n",
       "      <td>(1.009+/-0.021)e+04</td>\n",
       "    </tr>\n",
       "  </tbody>\n",
       "</table>\n",
       "</div>"
      ],
      "text/plain": [
       "            Paper          FSR                  MHz              Rel MHz\n",
       "0  -0.529+/-0.012  1.95+/-0.07    (3.00+/-0.12)e+03              0.0+/-0\n",
       "1   0.069+/-0.006  5.63+/-0.04    (8.65+/-0.14)e+03    (5.65+/-0.15)e+03\n",
       "2   0.230+/-0.008  6.71+/-0.06  (1.031+/-0.017)e+04    (7.31+/-0.17)e+03\n",
       "3   0.388+/-0.010  7.79+/-0.07  (1.198+/-0.020)e+04    (8.98+/-0.20)e+03\n",
       "4   0.490+/-0.009  8.52+/-0.07  (1.309+/-0.021)e+04  (1.009+/-0.021)e+04"
      ]
     },
     "execution_count": 11,
     "metadata": {},
     "output_type": "execute_result"
    }
   ],
   "source": [
    "# Make uncertainty array of probe-beam paper-unit locations with uncertainty\n",
    "\n",
    "\n",
    "ProbeUp_peaks = up.uarray(Hdata[\"Up Probe\"][\"Peak(V)\"],\n",
    "                          abs((Hdata[\"Up Probe\"][\"PeakLowerUnc(V)\"] - Hdata[\"Up Probe\"][\"PeakUpperUnc(V)\"])/2))\n",
    "\n",
    "#FSR array\n",
    "FSR_array = cal(ProbeUp_peaks, upPump_params)\n",
    "\n",
    "#Use to find the mHz array\n",
    "mHz_array = FSR_array*(uFSR/const.mega)\n",
    "\n",
    "#Find the relative distance\n",
    "rel_mHz = mHz_array - mHz_array[0]\n",
    "\n",
    "# Build Pandas DataFrame with spectrum in paper units, FSR units (applying calibration), \n",
    "# MHz (applying free spectral range), and MHz relative to the largest, lowest-frequency peak.\n",
    "\n",
    "Left_Right_spectrum = pd.DataFrame({'Paper': ProbeUp_peaks,\n",
    "                                    'FSR': FSR_array,\n",
    "                                    'MHz': mHz_array,\n",
    "                                    'Rel MHz': rel_mHz\n",
    "                                   })\n",
    "\n",
    "# Show the table\n",
    "print('Left-to-right scan probe-beam peak locations:')\n",
    "Left_Right_spectrum"
   ]
  },
  {
   "cell_type": "markdown",
   "metadata": {},
   "source": [
    "### Calculate separations\n",
    "\n",
    "Make a table that shows the following separations in MHz (with uncertainty):\n",
    "\n",
    "* The Lamb shift: 2S<sub>1/2</sub> - 3P<sub>3/2</sub> to 2P<sub>1/2</sub> - 3D<sub>3/2</sub> frequency separation (with uncertainty) for both scans.\n",
    "* The 2P<sub>3/2</sub>  - 3D<sub>5/2</sub> to 2P<sub>1/2</sub> - 3D<sub>3/2</sub>  frequency separation, i.e., highest frequency peak to lowest frequency peak (with uncertainty) for both scans.\n",
    "* The 2P<sub>3/2</sub>  - 3D<sub>5/2</sub> to 2S<sub>1/2</sub> - 3P<sub>1/2</sub> frequency separation, i.e., tallest to smallest peak (with uncertaintyl) for both scans.\n"
   ]
  },
  {
   "cell_type": "code",
   "execution_count": 12,
   "metadata": {},
   "outputs": [
    {
     "data": {
      "text/html": [
       "<div>\n",
       "<style scoped>\n",
       "    .dataframe tbody tr th:only-of-type {\n",
       "        vertical-align: middle;\n",
       "    }\n",
       "\n",
       "    .dataframe tbody tr th {\n",
       "        vertical-align: top;\n",
       "    }\n",
       "\n",
       "    .dataframe thead th {\n",
       "        text-align: right;\n",
       "    }\n",
       "</style>\n",
       "<table border=\"1\" class=\"dataframe\">\n",
       "  <thead>\n",
       "    <tr style=\"text-align: right;\">\n",
       "      <th></th>\n",
       "      <th>Separations</th>\n",
       "      <th>L-R (MHz)</th>\n",
       "    </tr>\n",
       "  </thead>\n",
       "  <tbody>\n",
       "    <tr>\n",
       "      <th>0</th>\n",
       "      <td>2S1/2-3P3/2 to 2P1/2-3D3/2</td>\n",
       "      <td>(1.11+/-0.15)e+03</td>\n",
       "    </tr>\n",
       "    <tr>\n",
       "      <th>1</th>\n",
       "      <td>2P3/2-3D5/2 to 2P1/2-3D3/2</td>\n",
       "      <td>(1.009+/-0.021)e+04</td>\n",
       "    </tr>\n",
       "    <tr>\n",
       "      <th>2</th>\n",
       "      <td>2P3/2-3D5/2 to 2S1/2-3P1/2</td>\n",
       "      <td>(5.65+/-0.15)e+03</td>\n",
       "    </tr>\n",
       "  </tbody>\n",
       "</table>\n",
       "</div>"
      ],
      "text/plain": [
       "                  Separations            L-R (MHz)\n",
       "0  2S1/2-3P3/2 to 2P1/2-3D3/2    (1.11+/-0.15)e+03\n",
       "1  2P3/2-3D5/2 to 2P1/2-3D3/2  (1.009+/-0.021)e+04\n",
       "2  2P3/2-3D5/2 to 2S1/2-3P1/2    (5.65+/-0.15)e+03"
      ]
     },
     "execution_count": 12,
     "metadata": {},
     "output_type": "execute_result"
    }
   ],
   "source": [
    "# Calculate the separations and make a table.\n",
    "# Recommended: Build a DataFrame.  You can use it to add the calculated separations from the \n",
    "# other scan below and then the averages of both to compare to accepted results.\n",
    "\n",
    "    \n",
    "# Here is a list of the separation labels\n",
    "seps_list = ['2S1/2-3P3/2 to 2P1/2-3D3/2', '2P3/2-3D5/2 to 2P1/2-3D3/2','2P3/2-3D5/2 to 2S1/2-3P1/2']\n",
    "\n",
    "# Make a list of the separations in MHz\n",
    "LR_list = [rel_mHz[4] - rel_mHz[3], rel_mHz[4] - rel_mHz[0], rel_mHz[1] - rel_mHz[0]]\n",
    "\n",
    "# Construct the DataFrame\n",
    "Results = pd.DataFrame({'Separations': seps_list,\n",
    "                            'L-R (MHz)':LR_list})\n",
    "\n",
    "# Display\n",
    "Results"
   ]
  },
  {
   "cell_type": "markdown",
   "metadata": {},
   "source": [
    "## Right-to-left scan analysis\n",
    "### Fit the F-P peaks\n"
   ]
  },
  {
   "cell_type": "code",
   "execution_count": 13,
   "metadata": {},
   "outputs": [
    {
     "data": {
      "text/plain": [
       "[0, 1, 2, 3, 4, 5, 6, 7, 8, 9, 10]"
      ]
     },
     "execution_count": 13,
     "metadata": {},
     "output_type": "execute_result"
    }
   ],
   "source": [
    "# Make a table of the F-P peaks, and index array\n",
    "PeakUnc_down = abs((Hdata[\"Down Pump\"][\"PeakLowerUnc(V)\"] - Hdata[\"Down Pump\"][\"PeakUpperUnc(V)\"]))\n",
    "indices\n"
   ]
  },
  {
   "cell_type": "code",
   "execution_count": 14,
   "metadata": {},
   "outputs": [
    {
     "name": "stdout",
     "output_type": "stream",
     "text": [
      "[[Model]]\n",
      "    Model(polynomial)\n",
      "[[Fit Statistics]]\n",
      "    # fitting method   = leastsq\n",
      "    # function evals   = 11\n",
      "    # data points      = 11\n",
      "    # variables        = 4\n",
      "    chi-square         = 2.16884152\n",
      "    reduced chi-square = 0.30983450\n",
      "    Akaike info crit   = -9.86072320\n",
      "    Bayesian info crit = -8.26914211\n",
      "    R-squared          = 0.99995340\n",
      "[[Variables]]\n",
      "    c0:  7.49005577 +/- 0.01441538 (0.19%) (init = 7.489739)\n",
      "    c1:  6.64703358 +/- 0.03562930 (0.54%) (init = 6.639523)\n",
      "    c2: -0.46481465 +/- 0.11681840 (25.13%) (init = -0.4520077)\n",
      "    c3: -0.28460475 +/- 0.10237814 (35.97%) (init = -0.2673827)\n"
     ]
    }
   ],
   "source": [
    "# Fit to a polynomial of degree=3, and show the results and save the parameters\n",
    "downPump_params = poly_fit_and_plot(Hdata[\"Down Pump\"][\"Peak(V)\"], indices, yerr = PeakUnc_down,\n",
    "                                 xlabel = \"Fabry-Perot Peak Locations Down(V)\", ylabel = \"Peak Index\")\n"
   ]
  },
  {
   "cell_type": "markdown",
   "metadata": {},
   "source": [
    "### Make the calibration for the R-L scan\n"
   ]
  },
  {
   "cell_type": "code",
   "execution_count": 15,
   "metadata": {},
   "outputs": [
    {
     "name": "stdout",
     "output_type": "stream",
     "text": [
      "0      2.46+/-0.08\n",
      "1    6.200+/-0.017\n",
      "2    7.275+/-0.014\n",
      "3    8.352+/-0.015\n",
      "4    9.057+/-0.018\n",
      "Name: Peak(V), dtype: object\n"
     ]
    }
   ],
   "source": [
    "# Define and test the calibration function\n",
    "#Use the function from before\n",
    "print(cal(Hdata[\"Down Probe\"][\"Peak(V)\"], downPump_params))\n"
   ]
  },
  {
   "cell_type": "markdown",
   "metadata": {},
   "source": [
    "### Calculate the spectrum\n",
    "\n",
    "Carry out the calculation and table construction for the right-to-left scan."
   ]
  },
  {
   "cell_type": "code",
   "execution_count": 16,
   "metadata": {},
   "outputs": [
    {
     "name": "stdout",
     "output_type": "stream",
     "text": [
      "Right-to-left scan probe-beam peak locations:\n"
     ]
    },
    {
     "data": {
      "text/html": [
       "<div>\n",
       "<style scoped>\n",
       "    .dataframe tbody tr th:only-of-type {\n",
       "        vertical-align: middle;\n",
       "    }\n",
       "\n",
       "    .dataframe tbody tr th {\n",
       "        vertical-align: top;\n",
       "    }\n",
       "\n",
       "    .dataframe thead th {\n",
       "        text-align: right;\n",
       "    }\n",
       "</style>\n",
       "<table border=\"1\" class=\"dataframe\">\n",
       "  <thead>\n",
       "    <tr style=\"text-align: right;\">\n",
       "      <th></th>\n",
       "      <th>Paper</th>\n",
       "      <th>FSR</th>\n",
       "      <th>MHz</th>\n",
       "      <th>Rel MHz</th>\n",
       "    </tr>\n",
       "  </thead>\n",
       "  <tbody>\n",
       "    <tr>\n",
       "      <th>0</th>\n",
       "      <td>-0.736+/-0.010</td>\n",
       "      <td>2.46+/-0.11</td>\n",
       "      <td>(3.78+/-0.17)e+03</td>\n",
       "      <td>0.0+/-0</td>\n",
       "    </tr>\n",
       "    <tr>\n",
       "      <th>1</th>\n",
       "      <td>-0.192+/-0.008</td>\n",
       "      <td>6.20+/-0.06</td>\n",
       "      <td>(9.53+/-0.16)e+03</td>\n",
       "      <td>(5.74+/-0.19)e+03</td>\n",
       "    </tr>\n",
       "    <tr>\n",
       "      <th>2</th>\n",
       "      <td>-0.032+/-0.008</td>\n",
       "      <td>7.28+/-0.05</td>\n",
       "      <td>(1.118+/-0.018)e+04</td>\n",
       "      <td>(7.40+/-0.21)e+03</td>\n",
       "    </tr>\n",
       "    <tr>\n",
       "      <th>3</th>\n",
       "      <td>0.131+/-0.010</td>\n",
       "      <td>8.35+/-0.07</td>\n",
       "      <td>(1.284+/-0.021)e+04</td>\n",
       "      <td>(9.05+/-0.23)e+03</td>\n",
       "    </tr>\n",
       "    <tr>\n",
       "      <th>4</th>\n",
       "      <td>0.240+/-0.011</td>\n",
       "      <td>9.06+/-0.07</td>\n",
       "      <td>(1.392+/-0.022)e+04</td>\n",
       "      <td>(1.013+/-0.024)e+04</td>\n",
       "    </tr>\n",
       "  </tbody>\n",
       "</table>\n",
       "</div>"
      ],
      "text/plain": [
       "            Paper          FSR                  MHz              Rel MHz\n",
       "0  -0.736+/-0.010  2.46+/-0.11    (3.78+/-0.17)e+03              0.0+/-0\n",
       "1  -0.192+/-0.008  6.20+/-0.06    (9.53+/-0.16)e+03    (5.74+/-0.19)e+03\n",
       "2  -0.032+/-0.008  7.28+/-0.05  (1.118+/-0.018)e+04    (7.40+/-0.21)e+03\n",
       "3   0.131+/-0.010  8.35+/-0.07  (1.284+/-0.021)e+04    (9.05+/-0.23)e+03\n",
       "4   0.240+/-0.011  9.06+/-0.07  (1.392+/-0.022)e+04  (1.013+/-0.024)e+04"
      ]
     },
     "execution_count": 16,
     "metadata": {},
     "output_type": "execute_result"
    }
   ],
   "source": [
    "# Make uncertainty array of probe-beam paper-unit locations with uncertainty\n",
    "\n",
    "ProbeDown_peaks = up.uarray(Hdata[\"Down Probe\"][\"Peak(V)\"],\n",
    "                          abs((Hdata[\"Down Probe\"][\"PeakLowerUnc(V)\"] - Hdata[\"Down Probe\"][\"PeakUpperUnc(V)\"])/2))\n",
    "\n",
    "#FSR array\n",
    "FSR_array_down = cal(ProbeDown_peaks, downPump_params)\n",
    "\n",
    "#Use to find the mHz array\n",
    "mHz_array_down = FSR_array_down*(uFSR/const.mega)\n",
    "\n",
    "#Find the relative distance\n",
    "rel_mHz_down = mHz_array_down - mHz_array_down[0]\n",
    "\n",
    "# Build Pandas DataFrame with spectrum in paper units, FSR units (applying calibration), \n",
    "\n",
    "Right_left_spectrum = pd.DataFrame({'Paper': ProbeDown_peaks,\n",
    "                                    'FSR': FSR_array_down,\n",
    "                                    'MHz': mHz_array_down,\n",
    "                                    'Rel MHz': rel_mHz_down\n",
    "                                   })\n",
    "\n",
    "# Show the table\n",
    "print('Right-to-left scan probe-beam peak locations:')\n",
    "Right_left_spectrum"
   ]
  },
  {
   "cell_type": "markdown",
   "metadata": {},
   "source": [
    "### Calculate separations\n",
    "\n",
    "Calculate the separations for the right-to-left scan."
   ]
  },
  {
   "cell_type": "code",
   "execution_count": 17,
   "metadata": {},
   "outputs": [
    {
     "data": {
      "text/html": [
       "<div>\n",
       "<style scoped>\n",
       "    .dataframe tbody tr th:only-of-type {\n",
       "        vertical-align: middle;\n",
       "    }\n",
       "\n",
       "    .dataframe tbody tr th {\n",
       "        vertical-align: top;\n",
       "    }\n",
       "\n",
       "    .dataframe thead th {\n",
       "        text-align: right;\n",
       "    }\n",
       "</style>\n",
       "<table border=\"1\" class=\"dataframe\">\n",
       "  <thead>\n",
       "    <tr style=\"text-align: right;\">\n",
       "      <th></th>\n",
       "      <th>Separations</th>\n",
       "      <th>L-R (MHz)</th>\n",
       "      <th>R-L (MHz)</th>\n",
       "      <th>Average</th>\n",
       "      <th>Expected (MHz)</th>\n",
       "    </tr>\n",
       "  </thead>\n",
       "  <tbody>\n",
       "    <tr>\n",
       "      <th>0</th>\n",
       "      <td>2S1/2-3P3/2 to 2P1/2-3D3/2</td>\n",
       "      <td>(1.11+/-0.15)e+03</td>\n",
       "      <td>(1.08+/-0.14)e+03</td>\n",
       "      <td>(1.10+/-0.10)e+03</td>\n",
       "      <td>1000</td>\n",
       "    </tr>\n",
       "    <tr>\n",
       "      <th>1</th>\n",
       "      <td>2P3/2-3D5/2 to 2P1/2-3D3/2</td>\n",
       "      <td>(1.009+/-0.021)e+04</td>\n",
       "      <td>(1.013+/-0.024)e+04</td>\n",
       "      <td>(1.011+/-0.019)e+04</td>\n",
       "      <td>9890</td>\n",
       "    </tr>\n",
       "    <tr>\n",
       "      <th>2</th>\n",
       "      <td>2P3/2-3D5/2 to 2S1/2-3P1/2</td>\n",
       "      <td>(5.65+/-0.15)e+03</td>\n",
       "      <td>(5.74+/-0.19)e+03</td>\n",
       "      <td>(5.70+/-0.13)e+03</td>\n",
       "      <td>5583</td>\n",
       "    </tr>\n",
       "  </tbody>\n",
       "</table>\n",
       "</div>"
      ],
      "text/plain": [
       "                  Separations            L-R (MHz)            R-L (MHz)  \\\n",
       "0  2S1/2-3P3/2 to 2P1/2-3D3/2    (1.11+/-0.15)e+03    (1.08+/-0.14)e+03   \n",
       "1  2P3/2-3D5/2 to 2P1/2-3D3/2  (1.009+/-0.021)e+04  (1.013+/-0.024)e+04   \n",
       "2  2P3/2-3D5/2 to 2S1/2-3P1/2    (5.65+/-0.15)e+03    (5.74+/-0.19)e+03   \n",
       "\n",
       "               Average  Expected (MHz)  \n",
       "0    (1.10+/-0.10)e+03            1000  \n",
       "1  (1.011+/-0.019)e+04            9890  \n",
       "2    (5.70+/-0.13)e+03            5583  "
      ]
     },
     "execution_count": 17,
     "metadata": {},
     "output_type": "execute_result"
    }
   ],
   "source": [
    "# Calculate the separations in the R to L scan, and add a column to the data frame \n",
    "# for separation measurements\n",
    "\n",
    "#Seperations from right to left\n",
    "RL_list = [rel_mHz_down[4] - rel_mHz_down[3], rel_mHz_down[4] - rel_mHz_down[0], rel_mHz_down[1] - rel_mHz_down[0]]\n",
    "\n",
    "# Construct the DataFrame\n",
    "Results_RL = pd.DataFrame({'Separations': seps_list,\n",
    "                            'R-L (MHz)':RL_list})\n",
    "\n",
    "# Include it as a column\n",
    "Results['R-L (MHz)'] = Results_RL[\"R-L (MHz)\"]\n",
    "\n",
    "# Calculate the average from each scan, and add the column of average sepaations\n",
    "avg_dist = (Results_RL[\"R-L (MHz)\"] + Results[\"L-R (MHz)\"])/2\n",
    "\n",
    "Results['Average'] = avg_dist\n",
    "\n",
    "# Add a column of the expected separations.  See the experiment instructions for values.\n",
    "Results['Expected (MHz)'] = [1000, 9890, 5583]\n",
    "\n",
    "# Show the completed table\n",
    "Results"
   ]
  },
  {
   "cell_type": "markdown",
   "metadata": {},
   "source": [
    "## Present final values\n",
    "\n",
    "The DataFrame tables have limited control over their formatting.  Assuming you have used the names provided, execute the following print commands to make a tbale with increased precision for comparison to expected results."
   ]
  },
  {
   "cell_type": "code",
   "execution_count": 18,
   "metadata": {},
   "outputs": [
    {
     "name": "stdout",
     "output_type": "stream",
     "text": [
      "\n",
      "  Fine-structure line separation        |  Measured (MHz) |  Best known value (MHz)\n",
      "----------------------------------------|-----------------|-------------------------\n",
      "2S1/2-3P3/2 to 2P1/2-3D3/2 (Lamb shift) |   (1.10±0.10)×10³       |   1000\n",
      "2P3/2-3D5/2 to 2P1/2-3D3/2              |   (1.011±0.019)×10⁴       |   9890\n",
      "2P3/2-3D5/2 to 2S1/2-3P1/2              |   (5.70±0.13)×10³       |   5583\n"
     ]
    }
   ],
   "source": [
    "print('\\n  Fine-structure line separation        |  Measured (MHz) |  Best known value (MHz)')\n",
    "print('----------------------------------------|-----------------|-------------------------')\n",
    "print('{:s} (Lamb shift) |   {:.2uP}       |   {:.0f}'.format(Results.iloc[0,0],Results['Average'][0],\n",
    "                                                             Results['Expected (MHz)'][0]))\n",
    "print('{:s}              |   {:.2uP}       |   {:.0f}'.format(Results.iloc[1,0],Results['Average'][1],\n",
    "                                                             Results['Expected (MHz)'][1]))\n",
    "print('{:s}              |   {:.2uP}       |   {:.0f}'.format(Results.iloc[2,0],Results['Average'][2],\n",
    "                                                             Results['Expected (MHz)'][2]))"
   ]
  }
 ],
 "metadata": {
  "kernelspec": {
   "display_name": "Python [conda env:base] *",
   "language": "python",
   "name": "conda-base-py"
  },
  "language_info": {
   "codemirror_mode": {
    "name": "ipython",
    "version": 3
   },
   "file_extension": ".py",
   "mimetype": "text/x-python",
   "name": "python",
   "nbconvert_exporter": "python",
   "pygments_lexer": "ipython3",
   "version": "3.13.5"
  }
 },
 "nbformat": 4,
 "nbformat_minor": 4
}
