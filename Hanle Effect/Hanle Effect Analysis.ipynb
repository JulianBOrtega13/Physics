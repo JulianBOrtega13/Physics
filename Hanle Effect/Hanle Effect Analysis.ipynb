{
 "cells": [
  {
   "cell_type": "markdown",
   "metadata": {},
   "source": [
    "# Hanle Effect Analysis"
   ]
  },
  {
   "cell_type": "code",
   "execution_count": 2,
   "metadata": {},
   "outputs": [],
   "source": [
    "# Run this cell with Shift-Enter, and wait until the \n",
    "# asterisk changes to a number, i.e., [*] becomes [1]\n",
    "import numpy as np\n",
    "import scipy.constants as const\n",
    "import uncertainties as unc\n",
    "import matplotlib.pyplot as plt\n",
    "import pandas as pd\n",
    "%matplotlib inline"
   ]
  },
  {
   "cell_type": "markdown",
   "metadata": {},
   "source": [
    "## Calibration\n"
   ]
  },
  {
   "cell_type": "code",
   "execution_count": 8,
   "metadata": {},
   "outputs": [
    {
     "name": "stdout",
     "output_type": "stream",
     "text": [
      "Average minimum current: -0.19755+/-0.00067\n",
      "Average maximum current: 0.20661+/-0.00181\n"
     ]
    },
    {
     "data": {
      "text/html": [
       "<div>\n",
       "<style scoped>\n",
       "    .dataframe tbody tr th:only-of-type {\n",
       "        vertical-align: middle;\n",
       "    }\n",
       "\n",
       "    .dataframe tbody tr th {\n",
       "        vertical-align: top;\n",
       "    }\n",
       "\n",
       "    .dataframe thead th {\n",
       "        text-align: right;\n",
       "    }\n",
       "</style>\n",
       "<table border=\"1\" class=\"dataframe\">\n",
       "  <thead>\n",
       "    <tr style=\"text-align: right;\">\n",
       "      <th></th>\n",
       "      <th>Min(A)</th>\n",
       "      <th>Max(A)</th>\n",
       "    </tr>\n",
       "  </thead>\n",
       "  <tbody>\n",
       "    <tr>\n",
       "      <th>0</th>\n",
       "      <td>-0.19679</td>\n",
       "      <td>0.20821</td>\n",
       "    </tr>\n",
       "    <tr>\n",
       "      <th>1</th>\n",
       "      <td>-0.19876</td>\n",
       "      <td>0.20843</td>\n",
       "    </tr>\n",
       "    <tr>\n",
       "      <th>2</th>\n",
       "      <td>-0.19708</td>\n",
       "      <td>0.20978</td>\n",
       "    </tr>\n",
       "    <tr>\n",
       "      <th>3</th>\n",
       "      <td>-0.19786</td>\n",
       "      <td>0.20839</td>\n",
       "    </tr>\n",
       "    <tr>\n",
       "      <th>4</th>\n",
       "      <td>-0.19744</td>\n",
       "      <td>0.20521</td>\n",
       "    </tr>\n",
       "    <tr>\n",
       "      <th>5</th>\n",
       "      <td>-0.19685</td>\n",
       "      <td>0.20515</td>\n",
       "    </tr>\n",
       "    <tr>\n",
       "      <th>6</th>\n",
       "      <td>-0.19744</td>\n",
       "      <td>0.20431</td>\n",
       "    </tr>\n",
       "    <tr>\n",
       "      <th>7</th>\n",
       "      <td>-0.19678</td>\n",
       "      <td>0.20471</td>\n",
       "    </tr>\n",
       "    <tr>\n",
       "      <th>8</th>\n",
       "      <td>-0.19826</td>\n",
       "      <td>0.20596</td>\n",
       "    </tr>\n",
       "    <tr>\n",
       "      <th>9</th>\n",
       "      <td>-0.19826</td>\n",
       "      <td>0.20596</td>\n",
       "    </tr>\n",
       "  </tbody>\n",
       "</table>\n",
       "</div>"
      ],
      "text/plain": [
       "    Min(A)   Max(A)\n",
       "0 -0.19679  0.20821\n",
       "1 -0.19876  0.20843\n",
       "2 -0.19708  0.20978\n",
       "3 -0.19786  0.20839\n",
       "4 -0.19744  0.20521\n",
       "5 -0.19685  0.20515\n",
       "6 -0.19744  0.20431\n",
       "7 -0.19678  0.20471\n",
       "8 -0.19826  0.20596\n",
       "9 -0.19826  0.20596"
      ]
     },
     "execution_count": 8,
     "metadata": {},
     "output_type": "execute_result"
    }
   ],
   "source": [
    "#Read in data\n",
    "current_data = pd.read_csv(\"sweep current data.csv\")\n",
    "\n",
    "#Finding the average minimum and maximum current\n",
    "min_current = unc.ufloat(np.mean(current_data[\"Min(A)\"]), np.std(current_data[\"Min(A)\"]))\n",
    "max_current = unc.ufloat(np.mean(current_data[\"Max(A)\"]), np.std(current_data[\"Max(A)\"]))\n",
    "\n",
    "print(\"Average minimum current: {:.5f}\".format(min_current))\n",
    "print(\"Average maximum current: {:.5f}\".format(max_current))\n",
    "current_data"
   ]
  },
  {
   "cell_type": "code",
   "execution_count": 9,
   "metadata": {},
   "outputs": [],
   "source": [
    "#Defining relevant values\n",
    "\n",
    "#Dwell time per channel\n",
    "dwell_time = 0.020 #ms\n",
    "period = 21 #s\n",
    "#Factor for converting form current to magnetic field\n",
    "conv_factor = 14.3 #gauss/ampere\n",
    "\n",
    "#Half width half maximum\n",
    "hwhm1 = unc.ufloat(29.435198, 3.295223e-5)\n",
    "hwhm2 = unc.ufloat(28.223673, 3.395952e-5)"
   ]
  },
  {
   "cell_type": "code",
   "execution_count": 21,
   "metadata": {},
   "outputs": [
    {
     "name": "stdout",
     "output_type": "stream",
     "text": [
      "The hwhm of peak 1 in units of current: 0.02266+/-0.00011 (A)\n",
      "The hwhm of peak 2 in units of current: 0.02173+/-0.00010 (A)\n"
     ]
    }
   ],
   "source": [
    "#Convert channel number to current and then to magnetic field.\n",
    "\n",
    "def conv_to_current(hwhm, period, dwell=dwell_time, MinCurrent=min_current, MaxCurrent=max_current):\n",
    "    \n",
    "    num_of_bin = period/(2*dwell)\n",
    "    current_width = (abs(max_current - min_current)) / num_of_bin\n",
    "    hwhm_current = current_width * hwhm\n",
    "    return hwhm_current\n",
    "\n",
    "#Apply conversion function\n",
    "hwhm_current1 = conv_to_current(hwhm1, period)\n",
    "hwhm_current2 = conv_to_current(hwhm2, period)\n",
    "\n",
    "print(\"The hwhm of peak 1 in units of current: {:.5f} (A)\".format(hwhm_current1))\n",
    "print(\"The hwhm of peak 2 in units of current: {:.5f} (A)\".format(hwhm_current2))"
   ]
  },
  {
   "cell_type": "code",
   "execution_count": 22,
   "metadata": {},
   "outputs": [
    {
     "name": "stdout",
     "output_type": "stream",
     "text": [
      "The hwhm of peak 1 in units of magnetic field: 0.32404+/-0.00155 (gauss)\n",
      "The hwhm of peak 2 in units of magnetic field: 0.31070+/-0.00149 (gauss)\n"
     ]
    }
   ],
   "source": [
    "#Converting to magnetic field\n",
    "\n",
    "#Apply conversion factor\n",
    "hwhm_mag1 = hwhm_current1*conv_factor\n",
    "hwhm_mag2 = hwhm_current2*conv_factor\n",
    "\n",
    "print(\"The hwhm of peak 1 in units of magnetic field: {:.5f} (gauss)\".format(hwhm_mag1))\n",
    "print(\"The hwhm of peak 2 in units of magnetic field: {:.5f} (gauss)\".format(hwhm_mag2))"
   ]
  },
  {
   "cell_type": "markdown",
   "metadata": {},
   "source": [
    "## Lifetime"
   ]
  },
  {
   "cell_type": "code",
   "execution_count": 29,
   "metadata": {},
   "outputs": [
    {
     "name": "stdout",
     "output_type": "stream",
     "text": [
      "The lifetime of the excited state on the up sweep is: (1.1697±0.0056)×10⁻⁷ (seconds)\n",
      "The lifetime of the excited state on the down sweep is: (1.2199±0.0058)×10⁻⁷ (seconds)\n"
     ]
    }
   ],
   "source": [
    "#Find the mean lifetime using both of the vertical polarization peaks.\n",
    "\n",
    "#Find g_factor\n",
    "\n",
    "def g_factor(s, l, j):\n",
    "    g = 1 + ((j*(j + 1) + s*(s+1) - l*(l+1))/(2*j*(j+1)))\n",
    "    return g\n",
    "\n",
    "gj = g_factor(1, 1, 1)\n",
    "#Bohr magneton\n",
    "mu_B = (const.e*const.hbar)/(2.0*const.m_e)\n",
    "\n",
    "#Define function for lifetime\n",
    "def lifetime(hwhm_B, bohr=mu_B, g_J = gj):\n",
    "    inverse_lt = (2*g_J) * (bohr/const.hbar) * abs(hwhm_B*10**-4)\n",
    "    lt = 1/inverse_lt\n",
    "\n",
    "    return lt\n",
    "\n",
    "lifetime1 = lifetime(hwhm_mag1)\n",
    "lifetime2 = lifetime(hwhm_mag2)\n",
    "\n",
    "print(\"The lifetime of the excited state on the up sweep is: {:.5P} (seconds)\".format(lifetime1))\n",
    "print(\"The lifetime of the excited state on the down sweep is: {:.5P} (seconds)\".format(lifetime2))"
   ]
  },
  {
   "cell_type": "code",
   "execution_count": null,
   "metadata": {},
   "outputs": [],
   "source": []
  }
 ],
 "metadata": {
  "kernelspec": {
   "display_name": "Python 3 (ipykernel)",
   "language": "python",
   "name": "python3"
  },
  "language_info": {
   "codemirror_mode": {
    "name": "ipython",
    "version": 3
   },
   "file_extension": ".py",
   "mimetype": "text/x-python",
   "name": "python",
   "nbconvert_exporter": "python",
   "pygments_lexer": "ipython3",
   "version": "3.11.7"
  }
 },
 "nbformat": 4,
 "nbformat_minor": 4
}
