{
 "cells": [
  {
   "cell_type": "markdown",
   "metadata": {},
   "source": [
    "# Physical Adsorption Analysis"
   ]
  },
  {
   "cell_type": "markdown",
   "metadata": {},
   "source": [
    "## Task Summary\n",
    "\n",
    "1. Create a Python code block that will calculate an expected dosing pressure for a next dose, given the current equilibrium pressure, current adsorbed amount, and expected additional adsorbed amount.  Use this code to estimate the dosing pressure for the first 4 data points and check with the instructor or TA to make sure you are ready to start taking data.\n",
    "2. With your software code, set up the ability to make a plot similar to Figure 5 that will allow you to watch the progress of the isotherm as it is created.\n",
    "3. Collect and plot data for the argon isotherm, per the instructions.  Include a table of your pressure measurements before and after each dose along with the calculated adsorbed amount.\n",
    "4. Repeat the procedure to collect and plot data for nitrogen isotherm.  Be careful: the substep will appear between 7 and 9 torr; decrease dose sizes significantly so that you do not miss this feature.\n",
    "5. Determine the monolayer completion volume-STP of the nitrogen floating phase and the argon by using the “point B” method.  You may fit a line to a subset of points in your data, and show this line on the full data set.  Also show the location of “point B” for each set.\n"
   ]
  },
  {
   "cell_type": "code",
   "execution_count": 5,
   "metadata": {},
   "outputs": [],
   "source": [
    "# Import Packages\n",
    "\n",
    "import numpy as np\n",
    "import matplotlib.pyplot as plt\n",
    "import matplotlib as mpl\n",
    "import pandas as pd\n",
    "import uncertainties as unc\n",
    "%matplotlib inline"
   ]
  },
  {
   "cell_type": "code",
   "execution_count": 6,
   "metadata": {},
   "outputs": [],
   "source": [
    "# Plot Settings\n",
    "mpl.rcParams['figure.figsize'] = 12.0,8.0  # Roughly 12 cm wde by 8 cm high\n",
    "mpl.rcParams['font.size'] = 14.0 # Use 14 point font"
   ]
  },
  {
   "cell_type": "markdown",
   "metadata": {},
   "source": [
    "## Calculate expected dosing\n",
    "\n",
    "Rearrange the formulas giving the coverage amount for each step summarized by the [Number versus Pressure](http://courses.washington.edu/phys431/adsorption/Volume-vs-Pressure_deriv.pdf) calculation to make a formula that predicts the dosing pressure given the sample and calibration volumes $v_s$ and $v_c$, the room temperature $T$ (K), the standard temperature and pressure $T_0 = 273$ K and $P_0 = 760$ torr, and the amount adsorbed in a given step in $V_{STP}$ (in cc).\n",
    "\n",
    "Then make a Python function that calculates this given the input quantities."
   ]
  },
  {
   "cell_type": "code",
   "execution_count": 7,
   "metadata": {},
   "outputs": [
    {
     "name": "stdout",
     "output_type": "stream",
     "text": [
      "24.548572892051155 Torr\n",
      "12.162215105693368 Torr\n"
     ]
    }
   ],
   "source": [
    "# Create your function here\n",
    "def expected_dose(Pf_want, Pf_last, Vstp_add, T = 295.5, vs = 34.8,\n",
    "                  vc = 85.1, T0 = 273, P0 = 760):\n",
    "    return (P0*T/T0/vc) * Vstp_add + Pf_want + (vs/vc) * (Pf_want - Pf_last)\n",
    "\n",
    "print(expected_dose(0.3, 0, 2.5, 295), \"Torr\")\n",
    "print(expected_dose(0.5, 0.3, 1.2, 295), \"Torr\")\n",
    "\n",
    "def dose_chopper(eq_Ps,Vstps, T = 295.5):\n",
    "    doses = []\n",
    "    for i in range(1, len(eq_Ps)):\n",
    "        dose = expected_dose(eq_Ps[i], eq_Ps[i - 1], Vstps[i] - Vstps[i - 1], T)\n",
    "        print(f\"Expected calibration chamber pressure for dose {i}: {dose:.2f} Torr\")\n",
    "        doses.append(dose)\n",
    "    return doses\n"
   ]
  },
  {
   "cell_type": "code",
   "execution_count": 22,
   "metadata": {},
   "outputs": [
    {
     "name": "stdout",
     "output_type": "stream",
     "text": [
      "Expected calibration chamber pressure for dose 1: 24.59 Torr\n",
      "Expected calibration chamber pressure for dose 2: 11.22 Torr\n",
      "Expected calibration chamber pressure for dose 3: 15.00 Torr\n",
      "Expected calibration chamber pressure for dose 4: 18.04 Torr\n"
     ]
    }
   ],
   "source": [
    "# Create arrays to hold the extracted results\n",
    "eq_Ps = np.array([0, 0.3, 0.5, 0.5, 0.6])\n",
    "Vstps = np.array([0, 2.5, 3.6, 5.1, 6.9])\n",
    "\n",
    "# Feed the arrays to your function above, and print a table\n",
    "doses_array = dose_chopper(eq_Ps, Vstps)"
   ]
  },
  {
   "cell_type": "markdown",
   "metadata": {},
   "source": [
    "## Data Plots"
   ]
  },
  {
   "cell_type": "code",
   "execution_count": 8,
   "metadata": {},
   "outputs": [],
   "source": [
    "# Dosage Function\n",
    "def V_added(Pi, Pf, Pf_last, T = 294.65, vs = 34.8, vc = 85.1, T0 = 273, P0 = 760):\n",
    "    return (T0/T/P0) * (vc * (Pi - Pf) - vs * (Pf - Pf_last))\n",
    "\n",
    "#Takes measured lab values and uses the previous points to calculate the Vstp. It also plots a new datapoint.\n",
    "def plotting(measured_Pi, measured_Pf, csv_filepath, xlim = 15, ylim = 15):\n",
    "    lab_data = pd.read_csv(csv_filepath)\n",
    "    curr_Pf_array = lab_data['Pf'].to_numpy()\n",
    "    curr_Vstp_array = lab_data['Vstp'].to_numpy()\n",
    "\n",
    "    #Adding the values to the array\n",
    "    curr_Pf_array = np.append(curr_Pf_array, measured_Pf)\n",
    "    Vadd = Vadded(measured_Pi, curr_Pf_array[-1], curr_Pf_array[-2])\n",
    "    Vstp = curr_Vstp_array[-1] + Vadd\n",
    "    curr_Vstp_array = np.append(curr_Vstp_array, Vstp)\n",
    "\n",
    "    temp_df = pd.DataFrame({'Pf': curr_Pf_array,\n",
    "                        'Vstp': curr_Vstp_array})\n",
    "    temp_df.to.csv(csv_filepath, index = False)\n",
    "\n",
    "    print(f\"Pf_last: {measured_Pf:.f} Torr, Vstp_last: {Vstp:.2f} cc\")\n",
    "\n",
    "    plt.plot(curr_Pf_array, curr_Vstp_array, 'o')\n",
    "    plt.title('Pf vs Vstp Isotherm')\n",
    "    plt.xlabel('Pf [Torr]')\n",
    "    plt.ylabel('Adsorbed Vstp [cc]')\n",
    "    plt.xlim(0, xlim)\n",
    "    plt.ylim(0, ylim)\n",
    "    plt.show\n",
    "    "
   ]
  },
  {
   "cell_type": "markdown",
   "metadata": {},
   "source": [
    "#### Adsorbed Volume versus Pressure Plot"
   ]
  },
  {
   "cell_type": "code",
   "execution_count": 9,
   "metadata": {},
   "outputs": [
    {
     "name": "stdout",
     "output_type": "stream",
     "text": [
      "est dose: 10.099651863999691\n",
      "voltmeter reading: 0.0983\n"
     ]
    }
   ],
   "source": [
    "# Last measurement from plotting the n2 isotherm\n",
    "\n",
    "estimated_dose = expected_dose(Pf_want = 9.5, Pf_last = 8.27, Vstp_add = 0.01)\n",
    "print(f\"est dose: {estimated_dose}\")\n",
    "print(f\"voltmeter reading: {(estimated_dose - 0.27)/100:.4f}\")"
   ]
  },
  {
   "cell_type": "code",
   "execution_count": null,
   "metadata": {},
   "outputs": [],
   "source": [
    "#Plot\n",
    "\n",
    "#plotting(9, 8.27, 'N2_adsorption_data.csv)\n",
    "#This would be the the code used for plotting\n",
    "#but the experiment has already been conducted"
   ]
  },
  {
   "cell_type": "markdown",
   "metadata": {},
   "source": [
    "1. Calculate the dose\n",
    "2. Carry out the dosing for that step:\n",
    "    * Record the initial pressure in the spreadsheet\n",
    "    * Measure and record the final pressure in the spreadsheet\n",
    "4. Read in the sheet and calculate the adsorbed amount\n",
    "5. Plot the whole data set"
   ]
  },
  {
   "cell_type": "code",
   "execution_count": 10,
   "metadata": {},
   "outputs": [
    {
     "data": {
      "image/png": "[encoded data removed]",
      "text/plain": [
       "<Figure size 1200x800 with 1 Axes>"
      ]
     },
     "metadata": {},
     "output_type": "display_data"
    },
    {
     "data": {
      "text/html": [
       "<div>\n",
       "<style scoped>\n",
       "    .dataframe tbody tr th:only-of-type {\n",
       "        vertical-align: middle;\n",
       "    }\n",
       "\n",
       "    .dataframe tbody tr th {\n",
       "        vertical-align: top;\n",
       "    }\n",
       "\n",
       "    .dataframe thead th {\n",
       "        text-align: right;\n",
       "    }\n",
       "</style>\n",
       "<table border=\"1\" class=\"dataframe\">\n",
       "  <thead>\n",
       "    <tr style=\"text-align: right;\">\n",
       "      <th></th>\n",
       "      <th>Pf</th>\n",
       "      <th>Vstp</th>\n",
       "    </tr>\n",
       "  </thead>\n",
       "  <tbody>\n",
       "    <tr>\n",
       "      <th>0</th>\n",
       "      <td>0.00</td>\n",
       "      <td>0.000000</td>\n",
       "    </tr>\n",
       "    <tr>\n",
       "      <th>1</th>\n",
       "      <td>0.34</td>\n",
       "      <td>2.499346</td>\n",
       "    </tr>\n",
       "    <tr>\n",
       "      <th>2</th>\n",
       "      <td>0.39</td>\n",
       "      <td>3.511862</td>\n",
       "    </tr>\n",
       "    <tr>\n",
       "      <th>3</th>\n",
       "      <td>0.48</td>\n",
       "      <td>5.030001</td>\n",
       "    </tr>\n",
       "    <tr>\n",
       "      <th>4</th>\n",
       "      <td>0.64</td>\n",
       "      <td>6.923843</td>\n",
       "    </tr>\n",
       "    <tr>\n",
       "      <th>5</th>\n",
       "      <td>1.06</td>\n",
       "      <td>8.374033</td>\n",
       "    </tr>\n",
       "    <tr>\n",
       "      <th>6</th>\n",
       "      <td>2.51</td>\n",
       "      <td>9.255570</td>\n",
       "    </tr>\n",
       "    <tr>\n",
       "      <th>7</th>\n",
       "      <td>4.41</td>\n",
       "      <td>9.695768</td>\n",
       "    </tr>\n",
       "    <tr>\n",
       "      <th>8</th>\n",
       "      <td>6.08</td>\n",
       "      <td>9.991142</td>\n",
       "    </tr>\n",
       "    <tr>\n",
       "      <th>9</th>\n",
       "      <td>7.84</td>\n",
       "      <td>10.317972</td>\n",
       "    </tr>\n",
       "    <tr>\n",
       "      <th>10</th>\n",
       "      <td>9.48</td>\n",
       "      <td>10.688279</td>\n",
       "    </tr>\n",
       "    <tr>\n",
       "      <th>11</th>\n",
       "      <td>13.08</td>\n",
       "      <td>11.080217</td>\n",
       "    </tr>\n",
       "  </tbody>\n",
       "</table>\n",
       "</div>"
      ],
      "text/plain": [
       "       Pf       Vstp\n",
       "0    0.00   0.000000\n",
       "1    0.34   2.499346\n",
       "2    0.39   3.511862\n",
       "3    0.48   5.030001\n",
       "4    0.64   6.923843\n",
       "5    1.06   8.374033\n",
       "6    2.51   9.255570\n",
       "7    4.41   9.695768\n",
       "8    6.08   9.991142\n",
       "9    7.84  10.317972\n",
       "10   9.48  10.688279\n",
       "11  13.08  11.080217"
      ]
     },
     "execution_count": 10,
     "metadata": {},
     "output_type": "execute_result"
    }
   ],
   "source": [
    "# Save Results\n",
    "\n",
    "def simple_plot(csv_filepath):\n",
    "    lab_data = pd.read_csv(csv_filepath)\n",
    "    curr_Pf_array = lab_data['Pf'].to_numpy()\n",
    "    curr_Vstp_array = lab_data['Vstp'].to_numpy()\n",
    "    plt.plot(curr_Pf_array, curr_Vstp_array, 'o')\n",
    "    plt.xlabel('Final Pressure [Torr]')\n",
    "    plt.ylabel(r'Adsorbed $V_{stp}$ [cc]')\n",
    "    if 'Ar' in csv_filepath:\n",
    "        plt.title('Ar Isotherm')\n",
    "    else:\n",
    "        plt.title(r'$N_{2}$ Isotherm')\n",
    "\n",
    "    plt.show()\n",
    "\n",
    "simple_plot('Ar_isotherm.csv')\n",
    "\n",
    "Ar_data = pd.read_csv('Ar_isotherm.csv')\n",
    "Ar_data\n",
    "    "
   ]
  },
  {
   "cell_type": "markdown",
   "metadata": {},
   "source": [
    "## Repeat for nitrogen"
   ]
  },
  {
   "cell_type": "code",
   "execution_count": 21,
   "metadata": {},
   "outputs": [
    {
     "data": {
      "text/html": [
       "<div>\n",
       "<style scoped>\n",
       "    .dataframe tbody tr th:only-of-type {\n",
       "        vertical-align: middle;\n",
       "    }\n",
       "\n",
       "    .dataframe tbody tr th {\n",
       "        vertical-align: top;\n",
       "    }\n",
       "\n",
       "    .dataframe thead th {\n",
       "        text-align: right;\n",
       "    }\n",
       "</style>\n",
       "<table border=\"1\" class=\"dataframe\">\n",
       "  <thead>\n",
       "    <tr style=\"text-align: right;\">\n",
       "      <th></th>\n",
       "      <th>Pf</th>\n",
       "      <th>Vstp</th>\n",
       "    </tr>\n",
       "  </thead>\n",
       "  <tbody>\n",
       "    <tr>\n",
       "      <th>0</th>\n",
       "      <td>0.00</td>\n",
       "      <td>0.000000</td>\n",
       "    </tr>\n",
       "    <tr>\n",
       "      <th>1</th>\n",
       "      <td>0.33</td>\n",
       "      <td>2.502882</td>\n",
       "    </tr>\n",
       "    <tr>\n",
       "      <th>2</th>\n",
       "      <td>0.47</td>\n",
       "      <td>3.803107</td>\n",
       "    </tr>\n",
       "    <tr>\n",
       "      <th>3</th>\n",
       "      <td>0.59</td>\n",
       "      <td>4.806429</td>\n",
       "    </tr>\n",
       "    <tr>\n",
       "      <th>4</th>\n",
       "      <td>0.76</td>\n",
       "      <td>5.799331</td>\n",
       "    </tr>\n",
       "    <tr>\n",
       "      <th>5</th>\n",
       "      <td>0.90</td>\n",
       "      <td>6.295523</td>\n",
       "    </tr>\n",
       "    <tr>\n",
       "      <th>6</th>\n",
       "      <td>1.03</td>\n",
       "      <td>6.590871</td>\n",
       "    </tr>\n",
       "    <tr>\n",
       "      <th>7</th>\n",
       "      <td>1.33</td>\n",
       "      <td>6.973417</td>\n",
       "    </tr>\n",
       "    <tr>\n",
       "      <th>8</th>\n",
       "      <td>2.56</td>\n",
       "      <td>7.608034</td>\n",
       "    </tr>\n",
       "    <tr>\n",
       "      <th>9</th>\n",
       "      <td>3.38</td>\n",
       "      <td>7.813937</td>\n",
       "    </tr>\n",
       "    <tr>\n",
       "      <th>10</th>\n",
       "      <td>4.44</td>\n",
       "      <td>8.007582</td>\n",
       "    </tr>\n",
       "    <tr>\n",
       "      <th>11</th>\n",
       "      <td>5.69</td>\n",
       "      <td>8.175530</td>\n",
       "    </tr>\n",
       "    <tr>\n",
       "      <th>12</th>\n",
       "      <td>6.03</td>\n",
       "      <td>8.221279</td>\n",
       "    </tr>\n",
       "    <tr>\n",
       "      <th>13</th>\n",
       "      <td>6.48</td>\n",
       "      <td>8.275847</td>\n",
       "    </tr>\n",
       "    <tr>\n",
       "      <th>14</th>\n",
       "      <td>6.56</td>\n",
       "      <td>8.289053</td>\n",
       "    </tr>\n",
       "    <tr>\n",
       "      <th>15</th>\n",
       "      <td>6.79</td>\n",
       "      <td>8.342580</td>\n",
       "    </tr>\n",
       "    <tr>\n",
       "      <th>16</th>\n",
       "      <td>6.86</td>\n",
       "      <td>8.449581</td>\n",
       "    </tr>\n",
       "    <tr>\n",
       "      <th>17</th>\n",
       "      <td>7.02</td>\n",
       "      <td>8.549652</td>\n",
       "    </tr>\n",
       "    <tr>\n",
       "      <th>18</th>\n",
       "      <td>7.27</td>\n",
       "      <td>8.630342</td>\n",
       "    </tr>\n",
       "    <tr>\n",
       "      <th>19</th>\n",
       "      <td>7.51</td>\n",
       "      <td>8.679296</td>\n",
       "    </tr>\n",
       "    <tr>\n",
       "      <th>20</th>\n",
       "      <td>8.27</td>\n",
       "      <td>8.761173</td>\n",
       "    </tr>\n",
       "  </tbody>\n",
       "</table>\n",
       "</div>"
      ],
      "text/plain": [
       "      Pf      Vstp\n",
       "0   0.00  0.000000\n",
       "1   0.33  2.502882\n",
       "2   0.47  3.803107\n",
       "3   0.59  4.806429\n",
       "4   0.76  5.799331\n",
       "5   0.90  6.295523\n",
       "6   1.03  6.590871\n",
       "7   1.33  6.973417\n",
       "8   2.56  7.608034\n",
       "9   3.38  7.813937\n",
       "10  4.44  8.007582\n",
       "11  5.69  8.175530\n",
       "12  6.03  8.221279\n",
       "13  6.48  8.275847\n",
       "14  6.56  8.289053\n",
       "15  6.79  8.342580\n",
       "16  6.86  8.449581\n",
       "17  7.02  8.549652\n",
       "18  7.27  8.630342\n",
       "19  7.51  8.679296\n",
       "20  8.27  8.761173"
      ]
     },
     "execution_count": 21,
     "metadata": {},
     "output_type": "execute_result"
    }
   ],
   "source": [
    "# Reads in the data and prints the datafame\n",
    "n2_data = pd.read_csv(\"N2_isotherm.csv\")\n",
    "n2_data"
   ]
  },
  {
   "cell_type": "code",
   "execution_count": 27,
   "metadata": {},
   "outputs": [
    {
     "data": {
      "image/png": "[encoded data removed]",
      "text/plain": [
       "<Figure size 1200x800 with 1 Axes>"
      ]
     },
     "metadata": {},
     "output_type": "display_data"
    }
   ],
   "source": [
    "# Plot\n",
    "simple_plot(\"N2_isotherm.csv\")"
   ]
  },
  {
   "cell_type": "markdown",
   "metadata": {},
   "source": [
    "## Use 'Point B' method to find monolayer coverage\n",
    "\n",
    "The 'point B' method is a standardized way to estimate the monolayer coverage.  One fits the data points along the top of the step that are mostly linear in pressure.  The point at which this line intersects the knee of the curve is considered point \"B\". (Point \"A\" would be where the line intersects the y axis).\n",
    "\n",
    "Use LMfit.  An example is sketched below.\n",
    "\n",
    "Then fit the line to a slice of the data that is the linear portion.  Plot the line on the isotherm, and estimate the line's intersection with the knee by eye.  \n",
    "\n",
    "Use the line parameters to calculate the coverage at the knee."
   ]
  },
  {
   "cell_type": "code",
   "execution_count": 12,
   "metadata": {},
   "outputs": [],
   "source": [
    "# Set up the Model\n",
    "\n",
    "# Import the Linear model.\n",
    "from lmfit.models import LinearModel\n",
    "line = LinearModel()\n"
   ]
  },
  {
   "cell_type": "code",
   "execution_count": 13,
   "metadata": {},
   "outputs": [
    {
     "data": {
      "text/html": [
       "<h2>Fit Result</h2> <p>Model: Model(linear)</p> <table class=\"jp-toc-ignore\"><caption class=\"jp-toc-ignore\">Fit Statistics</caption><tr><td style='text-align:left'>fitting method</td><td style='text-align:right'>leastsq</td></tr><tr><td style='text-align:left'># function evals</td><td style='text-align:right'>4</td></tr><tr><td style='text-align:left'># data points</td><td style='text-align:right'>6</td></tr><tr><td style='text-align:left'># variables</td><td style='text-align:right'>2</td></tr><tr><td style='text-align:left'>chi-square</td><td style='text-align:right'> 0.03877772</td></tr><tr><td style='text-align:left'>reduced chi-square</td><td style='text-align:right'> 0.00969443</td></tr><tr><td style='text-align:left'>Akaike info crit.</td><td style='text-align:right'>-26.2500132</td></tr><tr><td style='text-align:left'>Bayesian info crit.</td><td style='text-align:right'>-26.6664942</td></tr><tr><td style='text-align:left'>R-squared</td><td style='text-align:right'> 0.98246985</td></tr></table><table class=\"jp-toc-ignore\"><caption>Parameters</caption><tr><th style='text-align:left'>name</th><th style='text-align:left'>value</th><th style='text-align:left'>standard error</th><th style='text-align:left'>relative error</th><th style='text-align:left'>initial value</th><th style='text-align:left'>min</th><th style='text-align:left'>max</th><th style='text-align:right'>vary</th></tr><tr><td style='text-align:left'>slope</td><td style='text-align:left'> 0.17469738</td><td style='text-align:left'> 0.01166782</td><td style='text-align:left'>(6.68%)</td><td style='text-align:left'>0.1746973846596976</td><td style='text-align:left'>       -inf</td><td style='text-align:left'>        inf</td><td style='text-align:right'>True</td></tr><tr><td style='text-align:left'>intercept</td><td style='text-align:left'> 8.90784692</td><td style='text-align:left'> 0.09348063</td><td style='text-align:left'>(1.05%)</td><td style='text-align:left'>8.907846916562393</td><td style='text-align:left'>       -inf</td><td style='text-align:left'>        inf</td><td style='text-align:right'>True</td></tr></table><table class=\"jp-toc-ignore\"><caption>Correlations (unreported values are < 0.100)</caption><tr><th style='text-align:left'>Parameter1</th><th style='text-align:left'>Parameter 2</th><th style='text-align:right'>Correlation</th></tr><tr><td style='text-align:left'>slope</td><td style='text-align:left'>intercept</td><td style='text-align:right'>-0.9028</td></tr></table>"
      ],
      "text/plain": [
       "<lmfit.model.ModelResult at 0x179ab53a7b0>"
      ]
     },
     "execution_count": 13,
     "metadata": {},
     "output_type": "execute_result"
    }
   ],
   "source": [
    "# Argon first\n",
    "# Select a \"slice\" of the data set from the results\n",
    "\n",
    "indices = list(range(6,12))\n",
    "x_data = Ar_data['Pf'][indices]\n",
    "y_data = Ar_data['Vstp'][indices]\n",
    "\n",
    "# Get starting parameters\n",
    "Ar_params = line.guess(y_data, x=x_data)\n",
    "\n",
    "# Feed these into the fitter and run it.\n",
    "Ar_fit = line.fit(y_data, Ar_params, x=x_data)\n",
    "\n",
    "# Print the results\n",
    "Ar_fit"
   ]
  },
  {
   "cell_type": "code",
   "execution_count": 19,
   "metadata": {},
   "outputs": [
    {
     "data": {
      "text/plain": [
       "<matplotlib.legend.Legend at 0x179a6d4d590>"
      ]
     },
     "execution_count": 19,
     "metadata": {},
     "output_type": "execute_result"
    }
   ],
   "source": [
    "# Make a plot with the line included\n",
    "# To include the line evaluated across the whole data set, use the eval() method.\n",
    "# \n",
    "plt.plot(Ar_data['Pf'],Ar_fit.eval(x=Ar_data['Pf']),'-',label='Point B line')\n",
    "# Add in he rest of the plot commands here, including the data.\n",
    "plt.scatter(Ar_data['Pf'], Ar_data['Vstp'], label = 'Ar Isotherm')\n",
    "\n",
    "pB = 3.0\n",
    "unky = 0.3\n",
    "\n",
    "plt.axvline(pB, color = 'r', linestyle = '--',\n",
    "            label = f'Point B P = {pB}' + r'$\\pm$' + str(unky) + ' Torr')\n",
    "plt.axvline(pB + unky, color = 'black', linestyle = '--')\n",
    "plt.axvline(pB - unky, color = 'black', linestyle = '--')\n",
    "\n",
    "plt.title('Ar Point B Determination')\n",
    "plt.xlabel('Equilibrium Pressure (Torr)')\n",
    "plt.ylabel(r'Adsorbed $V_{stp}$ (cc)')\n",
    "plt.ylim(0,12)\n",
    "plt.legend()\n"
   ]
  },
  {
   "cell_type": "markdown",
   "metadata": {},
   "source": [
    "### Evaluate the coverage at point 'B'\n",
    "\n",
    "By eye from the plot, locate where the knee of the data, approximately, intersects the line (or begins to deviat away from it significantly).\n",
    "\n",
    "Use the `eval()` method to obtain the coverage.\n",
    "\n",
    "Then estimate an uncertainty for point B, and use eval to estimate an uncertainty in the coverage.  Assemble the result into an uncertainty object.\n"
   ]
  },
  {
   "cell_type": "code",
   "execution_count": 18,
   "metadata": {},
   "outputs": [
    {
     "name": "stdout",
     "output_type": "stream",
     "text": [
      "Coverage at Point B: 9.432+/-0.052\n"
     ]
    }
   ],
   "source": [
    "# Uncertainty Calculation of Coverage\n",
    "coverage_nom = Ar_fit.eval(x = pB)\n",
    "coverage_unc = Ar_fit.eval(x = pB + unky) - coverage_nom\n",
    "\n",
    "coverage_B = unc.ufloat(coverage_nom, coverage_unc)\n",
    "print(f\"Coverage at Point B: {coverage_B:.3f}\")"
   ]
  },
  {
   "cell_type": "markdown",
   "metadata": {},
   "source": [
    "### Repeat for the nitrogen isotherm"
   ]
  },
  {
   "cell_type": "code",
   "execution_count": 22,
   "metadata": {},
   "outputs": [
    {
     "data": {
      "text/html": [
       "<h2>Fit Result</h2> <p>Model: Model(linear)</p> <table class=\"jp-toc-ignore\"><caption class=\"jp-toc-ignore\">Fit Statistics</caption><tr><td style='text-align:left'>fitting method</td><td style='text-align:right'>leastsq</td></tr><tr><td style='text-align:left'># function evals</td><td style='text-align:right'>4</td></tr><tr><td style='text-align:left'># data points</td><td style='text-align:right'>6</td></tr><tr><td style='text-align:left'># variables</td><td style='text-align:right'>2</td></tr><tr><td style='text-align:left'>chi-square</td><td style='text-align:right'> 9.2963e-04</td></tr><tr><td style='text-align:left'>reduced chi-square</td><td style='text-align:right'> 2.3241e-04</td></tr><tr><td style='text-align:left'>Akaike info crit.</td><td style='text-align:right'>-48.6348814</td></tr><tr><td style='text-align:left'>Bayesian info crit.</td><td style='text-align:right'>-49.0513625</td></tr><tr><td style='text-align:left'>R-squared</td><td style='text-align:right'> 0.99459058</td></tr></table><table class=\"jp-toc-ignore\"><caption>Parameters</caption><tr><th style='text-align:left'>name</th><th style='text-align:left'>value</th><th style='text-align:left'>standard error</th><th style='text-align:left'>relative error</th><th style='text-align:left'>initial value</th><th style='text-align:left'>min</th><th style='text-align:left'>max</th><th style='text-align:right'>vary</th></tr><tr><td style='text-align:left'>slope</td><td style='text-align:left'> 0.14626488</td><td style='text-align:left'> 0.00539341</td><td style='text-align:left'>(3.69%)</td><td style='text-align:left'>0.14626488172421792</td><td style='text-align:left'>       -inf</td><td style='text-align:left'>        inf</td><td style='text-align:right'>True</td></tr><tr><td style='text-align:left'>intercept</td><td style='text-align:left'> 7.33631964</td><td style='text-align:left'> 0.02994021</td><td style='text-align:left'>(0.41%)</td><td style='text-align:left'>7.336319640918806</td><td style='text-align:left'>       -inf</td><td style='text-align:left'>        inf</td><td style='text-align:right'>True</td></tr></table><table class=\"jp-toc-ignore\"><caption>Correlations (unreported values are < 0.100)</caption><tr><th style='text-align:left'>Parameter1</th><th style='text-align:left'>Parameter 2</th><th style='text-align:right'>Correlation</th></tr><tr><td style='text-align:left'>slope</td><td style='text-align:left'>intercept</td><td style='text-align:right'>-0.9782</td></tr></table>"
      ],
      "text/plain": [
       "<lmfit.model.ModelResult at 0x179abefc7d0>"
      ]
     },
     "execution_count": 22,
     "metadata": {},
     "output_type": "execute_result"
    }
   ],
   "source": [
    "# Select a \"slice\" of the data set from the results\n",
    "indices = list(range(9, 15))\n",
    "x_data2 = n2_data['Pf'][indices]\n",
    "y_data2 = n2_data['Vstp'][indices]\n",
    "\n",
    "# Gets starting parameters\n",
    "n2_params = line.guess(y_data2, x = x_data2)\n",
    "\n",
    "# Feed these into the fitter and run it.\n",
    "n2_fit = line.fit(y_data2, n2_params, x = x_data2)\n",
    "\n",
    "# Print the results\n",
    "n2_fit"
   ]
  },
  {
   "cell_type": "code",
   "execution_count": 23,
   "metadata": {},
   "outputs": [
    {
     "data": {
      "text/plain": [
       "<matplotlib.legend.Legend at 0x179abefd1d0>"
      ]
     },
     "execution_count": 23,
     "metadata": {},
     "output_type": "execute_result"
    }
   ],
   "source": [
    "# Plot with the line included\n",
    "# To include the line evaluated across the whole data set, use the eval() method.\n",
    "# \n",
    "plt.plot(n2_data['Pf'],n2_fit.eval(x=n2_data['Pf']),'-',label='Point B line')\n",
    "# Add in he rest of the plot commands here, including the data.\n",
    "plt.scatter(n2_data['Pf'], n2_data['Vstp'], label = 'N2 Isotherm')\n",
    "\n",
    "pB2 = 2.9\n",
    "unky2 = 0.2\n",
    "\n",
    "plt.axvline(pB2, color = 'r', linestyle = '--', \n",
    "            label = f'Point B P = {pB2}' + r'$\\pm$' + str(unky2) + ' Torr')\n",
    "plt.axvline(pB2 + unky2, color = 'black', linestyle = '--')\n",
    "plt.axvline(pB2 - unky2, color = 'black', linestyle = '--')\n",
    "\n",
    "plt.title('N2 Point B Determination')\n",
    "plt.xlabel('Equilibrium Pressure (Torr)')\n",
    "plt.ylabel(r'Adsorbed $V_{stp}$ (cc)')\n",
    "plt.legend()"
   ]
  },
  {
   "cell_type": "code",
   "execution_count": 53,
   "metadata": {},
   "outputs": [
    {
     "name": "stdout",
     "output_type": "stream",
     "text": [
      "N2 Coverage at Point B: 9.414+/-0.035\n"
     ]
    }
   ],
   "source": [
    "# Evaluate the coverage at point B and its uncertainty\n",
    "n2_coverage_nom = Ar_fit.eval(x = pB2)\n",
    "n2_coverage_unc = Ar_fit.eval(x = pB2 + unky2) - n2_coverage_nom\n",
    "\n",
    "n2_coverage_B = unc.ufloat(n2_coverage_nom, n2_coverage_unc)\n",
    "print(f\"N2 Coverage at Point B: {n2_coverage_B:.2u}\")"
   ]
  },
  {
   "cell_type": "markdown",
   "metadata": {},
   "source": [
    "## Other Calculations\n",
    "* Extract the coverage at the top of the nitrogen isotherm substep and calculate the surface area of the graphite.\n",
    "* Use the area to calculate the unit cell size of the argon monolayer.\n",
    "* Look up the bulk unit cell of solid argon (fcc structure) and determine the atomic spacing.\n",
    "* Evaluate the energy minimum of the Lennard-Jones potential, and estimate the equlibrium spacing from the constants given.\n",
    "* Make a small table to compare the three different spacing of Ar atoms in different cases: in 3D bulk, in the adsorbed monolayer, and in a simple pair from the L-J potential."
   ]
  },
  {
   "cell_type": "code",
   "execution_count": 54,
   "metadata": {},
   "outputs": [
    {
     "data": {
      "text/plain": [
       "<matplotlib.legend.Legend at 0x2896aee8410>"
      ]
     },
     "execution_count": 54,
     "metadata": {},
     "output_type": "execute_result"
    },
    {
     "data": {
      "image/png": "[encoded data removed]",
      "text/plain": [
       "<Figure size 1200x800 with 1 Axes>"
      ]
     },
     "metadata": {},
     "output_type": "display_data"
    }
   ],
   "source": [
    "#N2 Substep Point B\n",
    "\n",
    "indices = list(range(19,21))\n",
    "x_data3 = n2_data['Pf'][indices]\n",
    "y_data3 = n2_data['Vstp'][indices]\n",
    "\n",
    "n2_params2 = line.guess(y_data3, x_data3)\n",
    "\n",
    "n2_fit2 = line.fit(y_data3, n2_params2, x=x_data3)\n",
    "\n",
    "# Print the results\n",
    "n2_fit2\n",
    "\n",
    "plt.plot(n2_data['Pf'],n2_fit2.eval(x=n2_data['Pf']),'-',label='Point B line')\n",
    "plt.scatter(n2_data['Pf'],n2_data['Vstp'],label='N2 Isotherm')\n",
    "\n",
    "pB3 = 7.2\n",
    "unky3 = 0.15\n",
    "plt.axvline(pB3, color='r', linestyle='--', \n",
    "            label=f'Point B P = {pB3}' + r'$\\pm$' + str(unky3) + ' Torr')\n",
    "plt.axvline(pB3 + unky3, color='black', linestyle='--')\n",
    "plt.axvline(pB3 - unky3, color='black', linestyle='--')\n",
    "\n",
    "plt.title('N2 Substep Point B Determination')\n",
    "plt.xlabel('Equilibrium Pressure [Torr]')\n",
    "plt.ylabel(r'Adsorbed $V_{stp}$ [cc]')\n",
    "plt.legend()\n"
   ]
  },
  {
   "cell_type": "code",
   "execution_count": 57,
   "metadata": {},
   "outputs": [
    {
     "name": "stdout",
     "output_type": "stream",
     "text": [
      "Pressure at completion: 7.20+/-0.15 Torr\n",
      "n2 Coverage at Point B: 8.646+/-0.016 cc\n",
      "n2 pressure at Point B: 7.20+/-0.15 cc\n"
     ]
    }
   ],
   "source": [
    "#Covererage at Point B\n",
    "\n",
    "n2_coverage_nom2 = n2_fit2.eval(x = pB3)\n",
    "n2_coverage_unc2 = n2_fit2.eval(x = pB3+unky3) - n2_coverage_nom2\n",
    "\n",
    "n2_pressure2_B = unc.ufloat(pB3, unky3)\n",
    "n2_coverage2_B = unc.ufloat(n2_coverage_nom2, n2_coverage_unc2)\n",
    "\n",
    "#Print results\n",
    "print(f\"Pressure at completion: {pB3:.2f}+/-{unky3:.2f} Torr\")\n",
    "print(f\"n2 Coverage at Point B: {n2_coverage2_B:.2u} cc\")\n",
    "print(f\"n2 pressure at Point B: {n2_pressure2_B:.2u} cc\")"
   ]
  },
  {
   "cell_type": "code",
   "execution_count": 60,
   "metadata": {},
   "outputs": [
    {
     "name": "stdout",
     "output_type": "stream",
     "text": [
      "Total Surface Area: 37.989+/-0.071 m^2\n"
     ]
    }
   ],
   "source": [
    "#Surface area of the graphite in meters\n",
    "\n",
    "hex_a = 5.24E-20\n",
    "n_ads = 101325 * n2_coverage2_B * (1E-6 / (273 * 1.381E-23))\n",
    "SA_total = 1.04 * 3 * hex_a * n_ads\n",
    "\n",
    "print(f\"Total Surface Area: {SA_total:.2u} m^2\")\n"
   ]
  },
  {
   "cell_type": "code",
   "execution_count": 61,
   "metadata": {},
   "outputs": [
    {
     "name": "stdout",
     "output_type": "stream",
     "text": [
      "Ar density: (6.949+/-0.041)e+18 molecules/m^2\n",
      "Ar density: 0.06949+/-0.00041 molecules/angstrom^2\n",
      "Ar density: 0.06949+/-0.00041 molecules/angstrom^2\n"
     ]
    }
   ],
   "source": [
    "#Argon monolayer\n",
    "\n",
    "#molecules/m^2\n",
    "n2_density = 1/15.7E-20\n",
    "#molecules/angstrom^2\n",
    "n2_ang_dense = 1/15.7\n",
    "\n",
    "Ar_density = (coverage_B/n2_coverage2_B) * n2_density\n",
    "Ar_density_ang = (coverage_B/n2_coverage2_B) * n2_ang_dense\n",
    "\n",
    "print(f\"Ar density: {Ar_density:.2u} molecules/m^2\")\n",
    "print(f\"Ar density: {Ar_density*1E-20:.2u} molecules/angstrom^2\")\n",
    "print(f\"Ar density: {Ar_density_ang:.2u} molecules/angstrom^2\")"
   ]
  },
  {
   "cell_type": "code",
   "execution_count": 62,
   "metadata": {},
   "outputs": [
    {
     "name": "stdout",
     "output_type": "stream",
     "text": [
      "Ar-Ar spacing: 3.72 angstroms\n"
     ]
    }
   ],
   "source": [
    "#Fcc Argon\n",
    "#Lattice constant in angstroms\n",
    "lat_const = 5.26\n",
    "r = (np.sqrt(2) * lat_const) / 2\n",
    "print(f\"Ar-Ar spacing: {r:.2f} angstroms\")"
   ]
  }
 ],
 "metadata": {
  "kernelspec": {
   "display_name": "Python [conda env:base] *",
   "language": "python",
   "name": "conda-base-py"
  },
  "language_info": {
   "codemirror_mode": {
    "name": "ipython",
    "version": 3
   },
   "file_extension": ".py",
   "mimetype": "text/x-python",
   "name": "python",
   "nbconvert_exporter": "python",
   "pygments_lexer": "ipython3",
   "version": "3.13.5"
  }
 },
 "nbformat": 4,
 "nbformat_minor": 4
}
